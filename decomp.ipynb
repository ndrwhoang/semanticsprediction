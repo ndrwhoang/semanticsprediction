{
  "nbformat": 4,
  "nbformat_minor": 0,
  "metadata": {
    "colab": {
      "name": "decomp.ipynb",
      "provenance": []
    },
    "kernelspec": {
      "name": "python3",
      "display_name": "Python 3"
    },
    "language_info": {
      "name": "python"
    }
  },
  "cells": [
    {
      "cell_type": "code",
      "metadata": {
        "id": "a7QZA7aGCSrE",
        "colab": {
          "base_uri": "https://localhost:8080/"
        },
        "outputId": "136f2a27-5ea2-41db-826f-08e06100faac"
      },
      "source": [
        "pip install -q git+git://github.com/decompositional-semantics-initiative/decomp.git"
      ],
      "execution_count": 1,
      "outputs": [
        {
          "output_type": "stream",
          "name": "stdout",
          "text": [
            "\u001b[K     \\ 1.9 MB 5.1 MB/s\n",
            "\u001b[K     |████████████████████████████████| 57 kB 3.7 MB/s \n",
            "\u001b[K     |████████████████████████████████| 344 kB 58.1 MB/s \n",
            "\u001b[K     |████████████████████████████████| 56 kB 3.8 MB/s \n",
            "\u001b[K     |████████████████████████████████| 359 kB 70.4 MB/s \n",
            "\u001b[K     |████████████████████████████████| 89 kB 7.5 MB/s \n",
            "\u001b[K     |████████████████████████████████| 448 kB 71.0 MB/s \n",
            "\u001b[K     |████████████████████████████████| 45 kB 2.5 MB/s \n",
            "\u001b[K     |████████████████████████████████| 58 kB 5.7 MB/s \n",
            "\u001b[K     |████████████████████████████████| 1.4 MB 46.9 MB/s \n",
            "\u001b[K     |████████████████████████████████| 86 kB 4.6 MB/s \n",
            "\u001b[K     |████████████████████████████████| 52 kB 985 kB/s \n",
            "\u001b[K     |████████████████████████████████| 72 kB 464 kB/s \n",
            "\u001b[K     |████████████████████████████████| 10.1 MB 68.2 MB/s \n",
            "\u001b[?25h  Building wheel for decomp (setup.py) ... \u001b[?25l\u001b[?25hdone\n",
            "  Building wheel for predpatt (setup.py) ... \u001b[?25l\u001b[?25hdone\n",
            "  Building wheel for memoized-property (setup.py) ... \u001b[?25l\u001b[?25hdone\n",
            "  Building wheel for overrides (setup.py) ... \u001b[?25l\u001b[?25hdone\n",
            "  Building wheel for concrete (setup.py) ... \u001b[?25l\u001b[?25hdone\n",
            "  Building wheel for thrift (setup.py) ... \u001b[?25l\u001b[?25hdone\n",
            "  Building wheel for pycountry (setup.py) ... \u001b[?25l\u001b[?25hdone\n",
            "\u001b[31mERROR: pip's dependency resolver does not currently take into account all the packages that are installed. This behaviour is the source of the following dependency conflicts.\n",
            "google-colab 1.0.0 requires requests~=2.23.0, but you have requests 2.22.0 which is incompatible.\n",
            "datascience 0.10.6 requires folium==0.2.1, but you have folium 0.8.3 which is incompatible.\n",
            "albumentations 0.1.12 requires imgaug<0.2.7,>=0.2.5, but you have imgaug 0.2.9 which is incompatible.\u001b[0m\n"
          ]
        }
      ]
    },
    {
      "cell_type": "code",
      "metadata": {
        "id": "kD56NE-DmDPr"
      },
      "source": [
        "import json\n",
        "from pprint import pprint"
      ],
      "execution_count": 2,
      "outputs": []
    },
    {
      "cell_type": "code",
      "metadata": {
        "id": "IV9NMi3BCbHE"
      },
      "source": [
        "from decomp import UDSCorpus\n",
        "\n",
        "uds = UDSCorpus()"
      ],
      "execution_count": 3,
      "outputs": []
    },
    {
      "cell_type": "code",
      "metadata": {
        "id": "vpfIwuMcUwhT"
      },
      "source": [
        "special_nodes = ['-semantics-pred-root', '-semantics-arg-author', '-semantics-arg-addressee', '-semantics-arg-0']\n",
        "predicate_only = 'pred'\n",
        "arguement_only = 'arg'\n",
        "predicate_labels = ['genericity', 'time', 'factuality']\n",
        "argument_labels = ['genericity', 'wordsense']\n",
        "protoroles = ['instigation', 'volition', 'awareness', 'sentient', 'change_of_location', 'existed_before', 'existed_during',\n",
        "               'existed_after', 'change_of_possession', 'change_of_state', 'change_of_state_continuous', 'was_used',\n",
        "               'was_for_benefit', 'partitive', 'manner', 'purpose', 'location', 'time']"
      ],
      "execution_count": null,
      "outputs": []
    },
    {
      "cell_type": "code",
      "metadata": {
        "id": "9B_oo1BmD6E0"
      },
      "source": [
        "for i, (graphid, graph) in enumerate(uds.items()):\n",
        "    if i == 5: break\n",
        "    print(graphid)\n",
        "    print(graph.sentence)"
      ],
      "execution_count": null,
      "outputs": []
    },
    {
      "cell_type": "code",
      "metadata": {
        "colab": {
          "base_uri": "https://localhost:8080/"
        },
        "id": "yB7Xq-fSiirk",
        "outputId": "9fe76c58-aa6d-4fe8-855e-485c5207464a"
      },
      "source": [
        "uds['ewt-train-12'].semantics_nodes"
      ],
      "execution_count": null,
      "outputs": [
        {
          "output_type": "execute_result",
          "data": {
            "text/plain": [
              "{'ewt-train-12-semantics-arg-0': {'domain': 'semantics',\n",
              "  'frompredpatt': False,\n",
              "  'type': 'argument'},\n",
              " 'ewt-train-12-semantics-arg-11': {'domain': 'semantics',\n",
              "  'frompredpatt': True,\n",
              "  'type': 'argument'},\n",
              " 'ewt-train-12-semantics-arg-13': {'domain': 'semantics',\n",
              "  'frompredpatt': True,\n",
              "  'genericity': {'arg-abstract': {'confidence': 1.0, 'value': -1.147},\n",
              "   'arg-kind': {'confidence': 1.0, 'value': -1.147},\n",
              "   'arg-particular': {'confidence': 1.0, 'value': 1.1619}},\n",
              "  'type': 'argument',\n",
              "  'wordsense': {'supersense-noun.Tops': {'confidence': 1.0, 'value': -3.0},\n",
              "   'supersense-noun.act': {'confidence': 1.0, 'value': -3.0},\n",
              "   'supersense-noun.animal': {'confidence': 1.0, 'value': -3.0},\n",
              "   'supersense-noun.artifact': {'confidence': 1.0, 'value': -3.0},\n",
              "   'supersense-noun.attribute': {'confidence': 1.0, 'value': -3.0},\n",
              "   'supersense-noun.body': {'confidence': 1.0, 'value': -3.0},\n",
              "   'supersense-noun.cognition': {'confidence': 1.0, 'value': -3.0},\n",
              "   'supersense-noun.communication': {'confidence': 1.0, 'value': -3.0},\n",
              "   'supersense-noun.event': {'confidence': 1.0, 'value': -3.0},\n",
              "   'supersense-noun.feeling': {'confidence': 1.0, 'value': -3.0},\n",
              "   'supersense-noun.food': {'confidence': 1.0, 'value': -3.0},\n",
              "   'supersense-noun.group': {'confidence': 1.0, 'value': -3.0},\n",
              "   'supersense-noun.location': {'confidence': 1.0, 'value': -3.0},\n",
              "   'supersense-noun.motive': {'confidence': 1.0, 'value': -3.0},\n",
              "   'supersense-noun.object': {'confidence': 1.0, 'value': -3.0},\n",
              "   'supersense-noun.person': {'confidence': 1.0, 'value': -3.0},\n",
              "   'supersense-noun.phenomenon': {'confidence': 1.0, 'value': -3.0},\n",
              "   'supersense-noun.plant': {'confidence': 1.0, 'value': -3.0},\n",
              "   'supersense-noun.possession': {'confidence': 1.0, 'value': -3.0},\n",
              "   'supersense-noun.process': {'confidence': 1.0, 'value': -3.0},\n",
              "   'supersense-noun.quantity': {'confidence': 1.0, 'value': -3.0},\n",
              "   'supersense-noun.relation': {'confidence': 1.0, 'value': 1.5334},\n",
              "   'supersense-noun.shape': {'confidence': 1.0, 'value': -3.0},\n",
              "   'supersense-noun.state': {'confidence': 1.0, 'value': -3.0},\n",
              "   'supersense-noun.substance': {'confidence': 1.0, 'value': -3.0},\n",
              "   'supersense-noun.time': {'confidence': 1.0, 'value': -3.0}}},\n",
              " 'ewt-train-12-semantics-arg-15': {'domain': 'semantics',\n",
              "  'frompredpatt': True,\n",
              "  'genericity': {'arg-abstract': {'confidence': 1.0, 'value': -1.147},\n",
              "   'arg-kind': {'confidence': 1.0, 'value': 1.1619},\n",
              "   'arg-particular': {'confidence': 1.0, 'value': 1.1619}},\n",
              "  'type': 'argument'},\n",
              " 'ewt-train-12-semantics-arg-23': {'domain': 'semantics',\n",
              "  'frompredpatt': True,\n",
              "  'genericity': {'arg-abstract': {'confidence': 1.0, 'value': -1.147},\n",
              "   'arg-kind': {'confidence': 1.0, 'value': -1.147},\n",
              "   'arg-particular': {'confidence': 1.0, 'value': 1.1619}},\n",
              "  'type': 'argument',\n",
              "  'wordsense': {'supersense-noun.Tops': {'confidence': 1.0, 'value': -3.0},\n",
              "   'supersense-noun.act': {'confidence': 1.0, 'value': -1.4278},\n",
              "   'supersense-noun.animal': {'confidence': 1.0, 'value': -3.0},\n",
              "   'supersense-noun.artifact': {'confidence': 1.0, 'value': -3.0},\n",
              "   'supersense-noun.attribute': {'confidence': 1.0, 'value': -3.0},\n",
              "   'supersense-noun.body': {'confidence': 1.0, 'value': -3.0},\n",
              "   'supersense-noun.cognition': {'confidence': 1.0, 'value': -3.0},\n",
              "   'supersense-noun.communication': {'confidence': 1.0, 'value': -1.4278},\n",
              "   'supersense-noun.event': {'confidence': 1.0, 'value': 1.5179},\n",
              "   'supersense-noun.feeling': {'confidence': 1.0, 'value': -3.0},\n",
              "   'supersense-noun.food': {'confidence': 1.0, 'value': -3.0},\n",
              "   'supersense-noun.group': {'confidence': 1.0, 'value': -3.0},\n",
              "   'supersense-noun.location': {'confidence': 1.0, 'value': -3.0},\n",
              "   'supersense-noun.motive': {'confidence': 1.0, 'value': -3.0},\n",
              "   'supersense-noun.object': {'confidence': 1.0, 'value': -3.0},\n",
              "   'supersense-noun.person': {'confidence': 1.0, 'value': -3.0},\n",
              "   'supersense-noun.phenomenon': {'confidence': 1.0, 'value': -3.0},\n",
              "   'supersense-noun.plant': {'confidence': 1.0, 'value': -3.0},\n",
              "   'supersense-noun.possession': {'confidence': 1.0, 'value': -3.0},\n",
              "   'supersense-noun.process': {'confidence': 1.0, 'value': -3.0},\n",
              "   'supersense-noun.quantity': {'confidence': 1.0, 'value': -3.0},\n",
              "   'supersense-noun.relation': {'confidence': 1.0, 'value': -3.0},\n",
              "   'supersense-noun.shape': {'confidence': 1.0, 'value': -3.0},\n",
              "   'supersense-noun.state': {'confidence': 1.0, 'value': -3.0},\n",
              "   'supersense-noun.substance': {'confidence': 1.0, 'value': -3.0},\n",
              "   'supersense-noun.time': {'confidence': 1.0, 'value': -3.0}}},\n",
              " 'ewt-train-12-semantics-arg-3': {'domain': 'semantics',\n",
              "  'frompredpatt': True,\n",
              "  'genericity': {'arg-abstract': {'confidence': 1.0, 'value': -1.147},\n",
              "   'arg-kind': {'confidence': 1.0, 'value': -1.147},\n",
              "   'arg-particular': {'confidence': 1.0, 'value': 1.1619}},\n",
              "  'type': 'argument',\n",
              "  'wordsense': {'supersense-noun.Tops': {'confidence': 1.0, 'value': -3.0},\n",
              "   'supersense-noun.act': {'confidence': 1.0, 'value': -3.0},\n",
              "   'supersense-noun.animal': {'confidence': 1.0, 'value': -3.0},\n",
              "   'supersense-noun.artifact': {'confidence': 1.0, 'value': -3.0},\n",
              "   'supersense-noun.attribute': {'confidence': 1.0, 'value': -3.0},\n",
              "   'supersense-noun.body': {'confidence': 1.0, 'value': -3.0},\n",
              "   'supersense-noun.cognition': {'confidence': 1.0, 'value': -3.0},\n",
              "   'supersense-noun.communication': {'confidence': 1.0, 'value': -3.0},\n",
              "   'supersense-noun.event': {'confidence': 1.0, 'value': -3.0},\n",
              "   'supersense-noun.feeling': {'confidence': 1.0, 'value': -3.0},\n",
              "   'supersense-noun.food': {'confidence': 1.0, 'value': -3.0},\n",
              "   'supersense-noun.group': {'confidence': 1.0, 'value': -3.0},\n",
              "   'supersense-noun.location': {'confidence': 1.0, 'value': -3.0},\n",
              "   'supersense-noun.motive': {'confidence': 1.0, 'value': -3.0},\n",
              "   'supersense-noun.object': {'confidence': 1.0, 'value': -3.0},\n",
              "   'supersense-noun.person': {'confidence': 1.0, 'value': 0.2456},\n",
              "   'supersense-noun.phenomenon': {'confidence': 1.0, 'value': -3.0},\n",
              "   'supersense-noun.plant': {'confidence': 1.0, 'value': -3.0},\n",
              "   'supersense-noun.possession': {'confidence': 1.0, 'value': -3.0},\n",
              "   'supersense-noun.process': {'confidence': 1.0, 'value': -3.0},\n",
              "   'supersense-noun.quantity': {'confidence': 1.0, 'value': -3.0},\n",
              "   'supersense-noun.relation': {'confidence': 1.0, 'value': -3.0},\n",
              "   'supersense-noun.shape': {'confidence': 1.0, 'value': -3.0},\n",
              "   'supersense-noun.state': {'confidence': 1.0, 'value': -3.0},\n",
              "   'supersense-noun.substance': {'confidence': 1.0, 'value': -3.0},\n",
              "   'supersense-noun.time': {'confidence': 1.0, 'value': -3.0}}},\n",
              " 'ewt-train-12-semantics-arg-9': {'domain': 'semantics',\n",
              "  'frompredpatt': True,\n",
              "  'genericity': {'arg-abstract': {'confidence': 1.0, 'value': -1.147},\n",
              "   'arg-kind': {'confidence': 1.0, 'value': -1.147},\n",
              "   'arg-particular': {'confidence': 1.0, 'value': 1.1619}},\n",
              "  'type': 'argument',\n",
              "  'wordsense': {'supersense-noun.Tops': {'confidence': 1.0, 'value': -3.0},\n",
              "   'supersense-noun.act': {'confidence': 1.0, 'value': 1.5461},\n",
              "   'supersense-noun.animal': {'confidence': 1.0, 'value': -3.0},\n",
              "   'supersense-noun.artifact': {'confidence': 1.0, 'value': -3.0},\n",
              "   'supersense-noun.attribute': {'confidence': 1.0, 'value': -3.0},\n",
              "   'supersense-noun.body': {'confidence': 1.0, 'value': -3.0},\n",
              "   'supersense-noun.cognition': {'confidence': 1.0, 'value': -3.0},\n",
              "   'supersense-noun.communication': {'confidence': 1.0, 'value': -3.0},\n",
              "   'supersense-noun.event': {'confidence': 1.0, 'value': -3.0},\n",
              "   'supersense-noun.feeling': {'confidence': 1.0, 'value': -3.0},\n",
              "   'supersense-noun.food': {'confidence': 1.0, 'value': -3.0},\n",
              "   'supersense-noun.group': {'confidence': 1.0, 'value': -3.0},\n",
              "   'supersense-noun.location': {'confidence': 1.0, 'value': -3.0},\n",
              "   'supersense-noun.motive': {'confidence': 1.0, 'value': -3.0},\n",
              "   'supersense-noun.object': {'confidence': 1.0, 'value': -3.0},\n",
              "   'supersense-noun.person': {'confidence': 1.0, 'value': -3.0},\n",
              "   'supersense-noun.phenomenon': {'confidence': 1.0, 'value': -3.0},\n",
              "   'supersense-noun.plant': {'confidence': 1.0, 'value': -3.0},\n",
              "   'supersense-noun.possession': {'confidence': 1.0, 'value': -3.0},\n",
              "   'supersense-noun.process': {'confidence': 1.0, 'value': -3.0},\n",
              "   'supersense-noun.quantity': {'confidence': 1.0, 'value': -3.0},\n",
              "   'supersense-noun.relation': {'confidence': 1.0, 'value': -3.0},\n",
              "   'supersense-noun.shape': {'confidence': 1.0, 'value': -3.0},\n",
              "   'supersense-noun.state': {'confidence': 1.0, 'value': -3.0},\n",
              "   'supersense-noun.substance': {'confidence': 1.0, 'value': -3.0},\n",
              "   'supersense-noun.time': {'confidence': 1.0, 'value': -3.0}}},\n",
              " 'ewt-train-12-semantics-arg-addressee': {'domain': 'semantics',\n",
              "  'frompredpatt': False,\n",
              "  'type': 'argument'},\n",
              " 'ewt-train-12-semantics-arg-author': {'domain': 'semantics',\n",
              "  'frompredpatt': False,\n",
              "  'type': 'argument'},\n",
              " 'ewt-train-12-semantics-pred-11': {'domain': 'semantics',\n",
              "  'event_structure': {'dynamic': {'confidence': 0.9999978542327881,\n",
              "    'value': 1.2957098484039307},\n",
              "   'natural_parts': {'confidence': 0.9999988079071045,\n",
              "    'value': -1.074545979499817},\n",
              "   'situation_duration_lbound-centuries': {'confidence': 1, 'value': -0.3258},\n",
              "   'situation_duration_lbound-days': {'confidence': 1, 'value': -0.6269},\n",
              "   'situation_duration_lbound-decades': {'confidence': 1, 'value': -0.4475},\n",
              "   'situation_duration_lbound-forever': {'confidence': 1, 'value': -0.3241},\n",
              "   'situation_duration_lbound-fractions_of_a_second': {'confidence': 1,\n",
              "    'value': -0.3256},\n",
              "   'situation_duration_lbound-hours': {'confidence': 1, 'value': -1.4336},\n",
              "   'situation_duration_lbound-instant': {'confidence': 1, 'value': -0.7091},\n",
              "   'situation_duration_lbound-minutes': {'confidence': 1, 'value': -1.5557},\n",
              "   'situation_duration_lbound-months': {'confidence': 1, 'value': -0.3506},\n",
              "   'situation_duration_lbound-seconds': {'confidence': 1, 'value': 0.8715},\n",
              "   'situation_duration_lbound-weeks': {'confidence': 1, 'value': -0.4845},\n",
              "   'situation_duration_lbound-years': {'confidence': 1, 'value': -0.8807},\n",
              "   'situation_duration_ubound-centuries': {'confidence': 1, 'value': -0.3595},\n",
              "   'situation_duration_ubound-days': {'confidence': 1, 'value': -0.7862},\n",
              "   'situation_duration_ubound-decades': {'confidence': 1, 'value': -0.5671},\n",
              "   'situation_duration_ubound-forever': {'confidence': 1, 'value': -0.3567},\n",
              "   'situation_duration_ubound-fractions_of_a_second': {'confidence': 1,\n",
              "    'value': -0.3626},\n",
              "   'situation_duration_ubound-hours': {'confidence': 1, 'value': -1.5988},\n",
              "   'situation_duration_ubound-instant': {'confidence': 1, 'value': -0.8479},\n",
              "   'situation_duration_ubound-minutes': {'confidence': 1, 'value': 1.1922},\n",
              "   'situation_duration_ubound-months': {'confidence': 1, 'value': -0.4077},\n",
              "   'situation_duration_ubound-seconds': {'confidence': 1, 'value': -2.1428},\n",
              "   'situation_duration_ubound-weeks': {'confidence': 1, 'value': -0.6162},\n",
              "   'situation_duration_ubound-years': {'confidence': 1, 'value': -1.0534},\n",
              "   'telic': {'confidence': 0.9999988079071045, 'value': -1.0745320320129395}},\n",
              "  'factuality': {'factual': {'confidence': 1.0, 'value': 1.0583}},\n",
              "  'frompredpatt': True,\n",
              "  'genericity': {'pred-dynamic': {'confidence': 1.0, 'value': 0.7748},\n",
              "   'pred-hypothetical': {'confidence': 1.0, 'value': -1.5399},\n",
              "   'pred-particular': {'confidence': 1.0, 'value': 0.7748}},\n",
              "  'time': {'dur-centuries': {'confidence': 0.6652, 'value': -1.1401},\n",
              "   'dur-days': {'confidence': 0.6652, 'value': 0.8685},\n",
              "   'dur-decades': {'confidence': 0.6652, 'value': -1.1476},\n",
              "   'dur-forever': {'confidence': 0.6652, 'value': -0.7896},\n",
              "   'dur-hours': {'confidence': 0.6652, 'value': -1.0718},\n",
              "   'dur-instant': {'confidence': 0.6652, 'value': -1.707},\n",
              "   'dur-minutes': {'confidence': 0.6652, 'value': -0.833},\n",
              "   'dur-months': {'confidence': 0.6652, 'value': 0.9171},\n",
              "   'dur-seconds': {'confidence': 0.6652, 'value': -0.898},\n",
              "   'dur-weeks': {'confidence': 0.6652, 'value': -1.3023},\n",
              "   'dur-years': {'confidence': 0.6652, 'value': -1.0606}},\n",
              "  'type': 'predicate'},\n",
              " 'ewt-train-12-semantics-pred-20': {'domain': 'semantics',\n",
              "  'event_structure': {'dynamic': {'confidence': 0.9999974966049194,\n",
              "    'value': 1.2714592218399048},\n",
              "   'natural_parts': {'confidence': 0.999998927116394,\n",
              "    'value': -1.0961610078811646},\n",
              "   'situation_duration_lbound-centuries': {'confidence': 1, 'value': -2.1451},\n",
              "   'situation_duration_lbound-days': {'confidence': 1, 'value': -1.3315},\n",
              "   'situation_duration_lbound-decades': {'confidence': 1, 'value': -1.4392},\n",
              "   'situation_duration_lbound-forever': {'confidence': 1, 'value': -0.4828},\n",
              "   'situation_duration_lbound-fractions_of_a_second': {'confidence': 1,\n",
              "    'value': -0.4825},\n",
              "   'situation_duration_lbound-hours': {'confidence': 1, 'value': -1.3694},\n",
              "   'situation_duration_lbound-instant': {'confidence': 1, 'value': -0.406},\n",
              "   'situation_duration_lbound-minutes': {'confidence': 1, 'value': -1.5364},\n",
              "   'situation_duration_lbound-months': {'confidence': 1, 'value': -1.7331},\n",
              "   'situation_duration_lbound-seconds': {'confidence': 1, 'value': 1.3352},\n",
              "   'situation_duration_lbound-weeks': {'confidence': 1, 'value': -1.5385},\n",
              "   'situation_duration_lbound-years': {'confidence': 1, 'value': -1.6397},\n",
              "   'situation_duration_ubound-centuries': {'confidence': 1, 'value': -2.2904},\n",
              "   'situation_duration_ubound-days': {'confidence': 1, 'value': -1.4555},\n",
              "   'situation_duration_ubound-decades': {'confidence': 1, 'value': -1.5657},\n",
              "   'situation_duration_ubound-forever': {'confidence': 1, 'value': -0.5968},\n",
              "   'situation_duration_ubound-fractions_of_a_second': {'confidence': 1,\n",
              "    'value': -0.5885},\n",
              "   'situation_duration_ubound-hours': {'confidence': 1, 'value': 1.5487},\n",
              "   'situation_duration_ubound-instant': {'confidence': 1, 'value': -0.4771},\n",
              "   'situation_duration_ubound-minutes': {'confidence': 1, 'value': -1.6354},\n",
              "   'situation_duration_ubound-months': {'confidence': 1, 'value': -1.8296},\n",
              "   'situation_duration_ubound-seconds': {'confidence': 1, 'value': -1.5945},\n",
              "   'situation_duration_ubound-weeks': {'confidence': 1, 'value': -1.6551},\n",
              "   'situation_duration_ubound-years': {'confidence': 1, 'value': -1.7316},\n",
              "   'telic': {'confidence': 0.999998927116394, 'value': -1.0961692333221436}},\n",
              "  'frompredpatt': True,\n",
              "  'genericity': {'pred-dynamic': {'confidence': 1.0, 'value': -1.5399},\n",
              "   'pred-hypothetical': {'confidence': 1.0, 'value': 0.7748},\n",
              "   'pred-particular': {'confidence': 1.0, 'value': -1.54}},\n",
              "  'time': {'dur-centuries': {'confidence': 0.625, 'value': -1.2852},\n",
              "   'dur-days': {'confidence': 0.625, 'value': -1.0959},\n",
              "   'dur-decades': {'confidence': 0.625, 'value': -1.3154},\n",
              "   'dur-forever': {'confidence': 0.625, 'value': -1.0041},\n",
              "   'dur-hours': {'confidence': 0.625, 'value': -0.9418},\n",
              "   'dur-instant': {'confidence': 0.625, 'value': -0.7637},\n",
              "   'dur-minutes': {'confidence': 0.625, 'value': -0.8468},\n",
              "   'dur-months': {'confidence': 0.625, 'value': 0.8075},\n",
              "   'dur-seconds': {'confidence': 0.625, 'value': -1.2451},\n",
              "   'dur-weeks': {'confidence': 0.625, 'value': 0.846},\n",
              "   'dur-years': {'confidence': 0.625, 'value': -1.0986}},\n",
              "  'type': 'predicate'},\n",
              " 'ewt-train-12-semantics-pred-7': {'domain': 'semantics',\n",
              "  'event_structure': {'dynamic': {'confidence': 0.9999988079071045,\n",
              "    'value': -1.0745528936386108},\n",
              "   'natural_parts': {'confidence': 0.9999988079071045,\n",
              "    'value': -1.0745666027069092},\n",
              "   'situation_duration_lbound-centuries': {'confidence': 1, 'value': -0.4917},\n",
              "   'situation_duration_lbound-days': {'confidence': 1, 'value': -1.1589},\n",
              "   'situation_duration_lbound-decades': {'confidence': 1, 'value': -0.9165},\n",
              "   'situation_duration_lbound-forever': {'confidence': 1, 'value': -0.458},\n",
              "   'situation_duration_lbound-fractions_of_a_second': {'confidence': 1,\n",
              "    'value': -0.5215},\n",
              "   'situation_duration_lbound-hours': {'confidence': 1, 'value': -1.9761},\n",
              "   'situation_duration_lbound-instant': {'confidence': 1, 'value': 1.7272},\n",
              "   'situation_duration_lbound-minutes': {'confidence': 1, 'value': -2.0921},\n",
              "   'situation_duration_lbound-months': {'confidence': 1, 'value': -0.6181},\n",
              "   'situation_duration_lbound-seconds': {'confidence': 1, 'value': -2.5003},\n",
              "   'situation_duration_lbound-weeks': {'confidence': 1, 'value': -0.9735},\n",
              "   'situation_duration_lbound-years': {'confidence': 1, 'value': -1.4301},\n",
              "   'situation_duration_ubound-centuries': {'confidence': 1, 'value': -0.4917},\n",
              "   'situation_duration_ubound-days': {'confidence': 1, 'value': -1.1589},\n",
              "   'situation_duration_ubound-decades': {'confidence': 1, 'value': -0.9165},\n",
              "   'situation_duration_ubound-forever': {'confidence': 1, 'value': -0.458},\n",
              "   'situation_duration_ubound-fractions_of_a_second': {'confidence': 1,\n",
              "    'value': -0.5215},\n",
              "   'situation_duration_ubound-hours': {'confidence': 1, 'value': -1.9762},\n",
              "   'situation_duration_ubound-instant': {'confidence': 1, 'value': 1.7272},\n",
              "   'situation_duration_ubound-minutes': {'confidence': 1, 'value': -2.0921},\n",
              "   'situation_duration_ubound-months': {'confidence': 1, 'value': -0.6181},\n",
              "   'situation_duration_ubound-seconds': {'confidence': 1, 'value': -2.5003},\n",
              "   'situation_duration_ubound-weeks': {'confidence': 1, 'value': -0.9735},\n",
              "   'situation_duration_ubound-years': {'confidence': 1, 'value': -1.4302},\n",
              "   'telic': {'confidence': 0.9999988079071045, 'value': -1.074510931968689}},\n",
              "  'factuality': {'factual': {'confidence': 1.0, 'value': 1.0583}},\n",
              "  'frompredpatt': True,\n",
              "  'genericity': {'pred-dynamic': {'confidence': 1.0, 'value': 0.7748},\n",
              "   'pred-hypothetical': {'confidence': 1.0, 'value': -1.54},\n",
              "   'pred-particular': {'confidence': 1.0, 'value': 0.7748}},\n",
              "  'time': {'dur-centuries': {'confidence': 1.0, 'value': -1.1744},\n",
              "   'dur-days': {'confidence': 1.0, 'value': -1.318},\n",
              "   'dur-decades': {'confidence': 1.0, 'value': -1.2476},\n",
              "   'dur-forever': {'confidence': 1.0, 'value': -1.0363},\n",
              "   'dur-hours': {'confidence': 1.0, 'value': -1.2156},\n",
              "   'dur-instant': {'confidence': 1.0, 'value': -0.8546},\n",
              "   'dur-minutes': {'confidence': 1.0, 'value': 1.2708},\n",
              "   'dur-months': {'confidence': 1.0, 'value': -1.4494},\n",
              "   'dur-seconds': {'confidence': 1.0, 'value': -0.9071},\n",
              "   'dur-weeks': {'confidence': 1.0, 'value': -1.5373},\n",
              "   'dur-years': {'confidence': 1.0, 'value': -1.2149}},\n",
              "  'type': 'predicate'},\n",
              " 'ewt-train-12-semantics-pred-root': {'domain': 'semantics',\n",
              "  'frompredpatt': False,\n",
              "  'type': 'predicate'}}"
            ]
          },
          "metadata": {},
          "execution_count": 5
        }
      ]
    },
    {
      "cell_type": "code",
      "metadata": {
        "colab": {
          "base_uri": "https://localhost:8080/"
        },
        "id": "XOA3alF1PHzH",
        "outputId": "1788333c-9b75-49b8-d301-ef4eff9966b8"
      },
      "source": [
        "uds[\"ewt-train-12\"].semantics_edges()"
      ],
      "execution_count": null,
      "outputs": [
        {
          "output_type": "execute_result",
          "data": {
            "text/plain": [
              "{('ewt-train-12-semantics-arg-0',\n",
              "  'ewt-train-12-semantics-pred-20'): {'domain': 'semantics', 'frompredpatt': False, 'type': 'head'},\n",
              " ('ewt-train-12-semantics-arg-0',\n",
              "  'ewt-train-12-semantics-pred-7'): {'domain': 'semantics', 'frompredpatt': False, 'type': 'head'},\n",
              " ('ewt-train-12-semantics-arg-11',\n",
              "  'ewt-train-12-semantics-pred-11'): {'domain': 'semantics', 'frompredpatt': True, 'type': 'head'},\n",
              " ('ewt-train-12-semantics-pred-11',\n",
              "  'ewt-train-12-semantics-arg-13'): {'domain': 'semantics', 'frompredpatt': True, 'protoroles': {'awareness': {'confidence': 1.0,\n",
              "    'value': -0.0},\n",
              "   'change_of_location': {'confidence': 1.0, 'value': -0.0},\n",
              "   'change_of_possession': {'confidence': 1.0, 'value': -0.0},\n",
              "   'change_of_state': {'confidence': 0.1675, 'value': 0.0032},\n",
              "   'change_of_state_continuous': {'confidence': 0.1675, 'value': 0.0032},\n",
              "   'existed_after': {'confidence': 0.6796, 'value': 0.0111},\n",
              "   'existed_before': {'confidence': 0.6796, 'value': 0.0111},\n",
              "   'existed_during': {'confidence': 1.0, 'value': 1.3421},\n",
              "   'instigation': {'confidence': 1.0, 'value': -0.0},\n",
              "   'partitive': {'confidence': 0.564, 'value': -0.0941},\n",
              "   'sentient': {'confidence': 1.0, 'value': -0.9348},\n",
              "   'volition': {'confidence': 1.0, 'value': -0.0},\n",
              "   'was_for_benefit': {'confidence': 1.0, 'value': -0.0},\n",
              "   'was_used': {'confidence': 0.564, 'value': -0.0}}, 'type': 'dependency'},\n",
              " ('ewt-train-12-semantics-pred-11',\n",
              "  'ewt-train-12-semantics-arg-15'): {'domain': 'semantics', 'frompredpatt': True, 'type': 'dependency'},\n",
              " ('ewt-train-12-semantics-pred-11',\n",
              "  'ewt-train-12-semantics-arg-9'): {'domain': 'semantics', 'event_structure': {'distributive': {'confidence': 1.0,\n",
              "    'value': -0.9329}}, 'frompredpatt': True, 'protoroles': {'awareness': {'confidence': 0.1395,\n",
              "    'value': -0.0549},\n",
              "   'change_of_location': {'confidence': 0.1395, 'value': -0.0549},\n",
              "   'change_of_possession': {'confidence': 1.0, 'value': -0.3909},\n",
              "   'change_of_state': {'confidence': 0.3333, 'value': -0.0085},\n",
              "   'change_of_state_continuous': {'confidence': 0.0791, 'value': -0.0351},\n",
              "   'existed_after': {'confidence': 0.6567, 'value': 0.124},\n",
              "   'existed_before': {'confidence': 1.0, 'value': 1.3954},\n",
              "   'existed_during': {'confidence': 1.0, 'value': 1.3959},\n",
              "   'instigation': {'confidence': 1.0, 'value': -1.5074},\n",
              "   'partitive': {'confidence': 0.0791, 'value': -0.1354},\n",
              "   'sentient': {'confidence': 1.0, 'value': -1.508},\n",
              "   'volition': {'confidence': 1.0, 'value': -0.3909},\n",
              "   'was_for_benefit': {'confidence': 0.3418, 'value': 0.0008},\n",
              "   'was_used': {'confidence': 0.3333,\n",
              "    'value': -0.0085}}, 'type': 'dependency'},\n",
              " ('ewt-train-12-semantics-pred-20',\n",
              "  'ewt-train-12-semantics-arg-23'): {'domain': 'semantics', 'frompredpatt': True, 'type': 'dependency'},\n",
              " ('ewt-train-12-semantics-pred-7',\n",
              "  'ewt-train-12-semantics-arg-11'): {'domain': 'semantics', 'frompredpatt': True, 'type': 'dependency'},\n",
              " ('ewt-train-12-semantics-pred-7',\n",
              "  'ewt-train-12-semantics-arg-3'): {'domain': 'semantics', 'frompredpatt': True, 'protoroles': {'awareness': {'confidence': 1.0,\n",
              "    'value': 1.3526},\n",
              "   'change_of_location': {'confidence': 0.272, 'value': -0.0922},\n",
              "   'change_of_possession': {'confidence': 0.7724, 'value': -0.0},\n",
              "   'change_of_state': {'confidence': 0.2067, 'value': -0.0548},\n",
              "   'change_of_state_continuous': {'confidence': 1.0, 'value': -0.0},\n",
              "   'existed_after': {'confidence': 1.0, 'value': 1.3527},\n",
              "   'existed_before': {'confidence': 1.0, 'value': 1.3527},\n",
              "   'existed_during': {'confidence': 1.0, 'value': 1.3557},\n",
              "   'instigation': {'confidence': 1.0, 'value': 1.3557},\n",
              "   'partitive': {'confidence': 0.1148, 'value': -0.0018},\n",
              "   'sentient': {'confidence': 1.0, 'value': 1.354},\n",
              "   'volition': {'confidence': 1.0, 'value': 1.3545},\n",
              "   'was_for_benefit': {'confidence': 0.1976, 'value': -0.0504},\n",
              "   'was_used': {'confidence': 0.4373,\n",
              "    'value': -0.0207}}, 'type': 'dependency'},\n",
              " ('ewt-train-12-semantics-pred-root',\n",
              "  'ewt-train-12-semantics-arg-0'): {'domain': 'semantics', 'frompredpatt': False, 'type': 'dependency'},\n",
              " ('ewt-train-12-semantics-pred-root',\n",
              "  'ewt-train-12-semantics-arg-addressee'): {'domain': 'semantics',\n",
              "  'frompredpatt': False,\n",
              "  'type': 'dependency'},\n",
              " ('ewt-train-12-semantics-pred-root',\n",
              "  'ewt-train-12-semantics-arg-author'): {'domain': 'semantics', 'frompredpatt': False, 'type': 'dependency'}}"
            ]
          },
          "metadata": {},
          "execution_count": 55
        }
      ]
    },
    {
      "cell_type": "code",
      "metadata": {
        "colab": {
          "base_uri": "https://localhost:8080/",
          "height": 52
        },
        "id": "uh6HWbZeRCRa",
        "outputId": "f169e061-0f25-40e5-e584-31b8547a8bce"
      },
      "source": [
        "uds[\"ewt-train-12\"].sentence"
      ],
      "execution_count": null,
      "outputs": [
        {
          "output_type": "execute_result",
          "data": {
            "application/vnd.google.colaboratory.intrinsic+json": {
              "type": "string"
            },
            "text/plain": [
              "'The police commander of Ninevah Province announced that bombings had declined 80 percent in Mosul , whereas there had been a big jump in the number of kidnappings .'"
            ]
          },
          "metadata": {},
          "execution_count": 56
        }
      ]
    },
    {
      "cell_type": "code",
      "metadata": {
        "colab": {
          "base_uri": "https://localhost:8080/"
        },
        "id": "q8mYutI1Pec3",
        "outputId": "f1e68c1e-8100-40d9-9e50-4f1a4e320f06"
      },
      "source": [
        "uds[\"ewt-train-12\"].semantics_edges('ewt-train-12-semantics-pred-7')"
      ],
      "execution_count": null,
      "outputs": [
        {
          "output_type": "execute_result",
          "data": {
            "text/plain": [
              "{('ewt-train-12-semantics-arg-0',\n",
              "  'ewt-train-12-semantics-pred-7'): {'domain': 'semantics', 'frompredpatt': False, 'type': 'head'},\n",
              " ('ewt-train-12-semantics-pred-7',\n",
              "  'ewt-train-12-semantics-arg-11'): {'domain': 'semantics', 'frompredpatt': True, 'type': 'dependency'},\n",
              " ('ewt-train-12-semantics-pred-7',\n",
              "  'ewt-train-12-semantics-arg-3'): {'domain': 'semantics', 'frompredpatt': True, 'protoroles': {'awareness': {'confidence': 1.0,\n",
              "    'value': 1.3526},\n",
              "   'change_of_location': {'confidence': 0.272, 'value': -0.0922},\n",
              "   'change_of_possession': {'confidence': 0.7724, 'value': -0.0},\n",
              "   'change_of_state': {'confidence': 0.2067, 'value': -0.0548},\n",
              "   'change_of_state_continuous': {'confidence': 1.0, 'value': -0.0},\n",
              "   'existed_after': {'confidence': 1.0, 'value': 1.3527},\n",
              "   'existed_before': {'confidence': 1.0, 'value': 1.3527},\n",
              "   'existed_during': {'confidence': 1.0, 'value': 1.3557},\n",
              "   'instigation': {'confidence': 1.0, 'value': 1.3557},\n",
              "   'partitive': {'confidence': 0.1148, 'value': -0.0018},\n",
              "   'sentient': {'confidence': 1.0, 'value': 1.354},\n",
              "   'volition': {'confidence': 1.0, 'value': 1.3545},\n",
              "   'was_for_benefit': {'confidence': 0.1976, 'value': -0.0504},\n",
              "   'was_used': {'confidence': 0.4373,\n",
              "    'value': -0.0207}}, 'type': 'dependency'}}"
            ]
          },
          "metadata": {},
          "execution_count": 57
        }
      ]
    },
    {
      "cell_type": "code",
      "metadata": {
        "colab": {
          "base_uri": "https://localhost:8080/"
        },
        "id": "3q0jfAfGW33l",
        "outputId": "f2c851e2-4599-40b9-8dec-898a04be2eed"
      },
      "source": [
        "uds[\"ewt-dev-1\"].sentence.split(' ')"
      ],
      "execution_count": null,
      "outputs": [
        {
          "output_type": "execute_result",
          "data": {
            "text/plain": [
              "['From', 'the', 'AP', 'comes', 'this', 'story', ':']"
            ]
          },
          "metadata": {},
          "execution_count": 64
        }
      ]
    },
    {
      "cell_type": "code",
      "metadata": {
        "colab": {
          "base_uri": "https://localhost:8080/"
        },
        "id": "pQiU-lNMQs3L",
        "outputId": "c4523f18-1537-41d6-cd0a-5f12e92fcc30"
      },
      "source": [
        "uds[\"ewt-dev-1\"].head('ewt-dev-1-semantics-pred-4', ['form'])"
      ],
      "execution_count": null,
      "outputs": [
        {
          "output_type": "execute_result",
          "data": {
            "text/plain": [
              "(4, ['comes'])"
            ]
          },
          "metadata": {},
          "execution_count": 37
        }
      ]
    },
    {
      "cell_type": "code",
      "metadata": {
        "colab": {
          "base_uri": "https://localhost:8080/"
        },
        "id": "62lb42_kQwrt",
        "outputId": "1e188579-46af-407d-a6f5-b163f5e208cc"
      },
      "source": [
        "uds[\"ewt-dev-1\"].span('ewt-dev-1-semantics-pred-4', ['form', 'lemma', 'type'])"
      ],
      "execution_count": null,
      "outputs": [
        {
          "output_type": "execute_result",
          "data": {
            "text/plain": [
              "{1: ['From', 'from', 'token'], 4: ['comes', 'come', 'token']}"
            ]
          },
          "metadata": {},
          "execution_count": 59
        }
      ]
    },
    {
      "cell_type": "code",
      "metadata": {
        "colab": {
          "base_uri": "https://localhost:8080/"
        },
        "id": "ygVaixCwXcLn",
        "outputId": "93336203-c591-433f-e7da-10679561e57d"
      },
      "source": [
        "uds['ewt-dev-8'].semantics_edges('ewt-dev-8-semantics-pred-4')"
      ],
      "execution_count": null,
      "outputs": [
        {
          "output_type": "execute_result",
          "data": {
            "text/plain": [
              "{('ewt-dev-8-semantics-arg-0',\n",
              "  'ewt-dev-8-semantics-pred-4'): {'domain': 'semantics', 'frompredpatt': False, 'type': 'head'},\n",
              " ('ewt-dev-8-semantics-pred-4',\n",
              "  'ewt-dev-8-semantics-arg-3'): {'domain': 'semantics', 'frompredpatt': True, 'protoroles': {'awareness': {'confidence': 1.0,\n",
              "    'value': -0.0},\n",
              "   'change_of_location': {'confidence': 0.5233, 'value': -0.17},\n",
              "   'change_of_possession': {'confidence': 1.0, 'value': -0.0},\n",
              "   'change_of_state': {'confidence': 1.0, 'value': -1.307},\n",
              "   'change_of_state_continuous': {'confidence': 1.0, 'value': -0.0},\n",
              "   'existed_after': {'confidence': 0.3405, 'value': 0.1093},\n",
              "   'existed_before': {'confidence': 1.0, 'value': -1.3995},\n",
              "   'existed_during': {'confidence': 1.0, 'value': 1.3903},\n",
              "   'instigation': {'confidence': 1.0, 'value': 1.389},\n",
              "   'partitive': {'confidence': 0.3405, 'value': 0.1093},\n",
              "   'sentient': {'confidence': 1.0, 'value': -1.3053},\n",
              "   'volition': {'confidence': 1.0, 'value': -0.0},\n",
              "   'was_for_benefit': {'confidence': 1.0, 'value': -0.0},\n",
              "   'was_used': {'confidence': 0.3273, 'value': 0.0618}}, 'type': 'dependency'},\n",
              " ('ewt-dev-8-semantics-pred-4',\n",
              "  'ewt-dev-8-semantics-arg-8'): {'domain': 'semantics', 'frompredpatt': True, 'type': 'dependency'}}"
            ]
          },
          "metadata": {},
          "execution_count": 41
        }
      ]
    },
    {
      "cell_type": "code",
      "metadata": {
        "id": "VaaIJ6RbaARU"
      },
      "source": [
        "uds['ewt-dev-1'].head('ewt-dev-1-semantics-arg-0', ['form'])"
      ],
      "execution_count": null,
      "outputs": []
    },
    {
      "cell_type": "code",
      "metadata": {
        "id": "5MBqrgwuWpup"
      },
      "source": [
        "uds[\"ewt-dev-1\"].semantics_nodes"
      ],
      "execution_count": null,
      "outputs": []
    },
    {
      "cell_type": "code",
      "metadata": {
        "colab": {
          "base_uri": "https://localhost:8080/"
        },
        "id": "WCDQiaz0wGI_",
        "outputId": "46c37e29-1d4f-4f84-c4d5-8c484bbddedb"
      },
      "source": [
        "uds[\"ewt-dev-1\"].semantics_nodes['ewt-dev-1-semantics-arg-3']"
      ],
      "execution_count": null,
      "outputs": [
        {
          "output_type": "execute_result",
          "data": {
            "text/plain": [
              "{'domain': 'semantics',\n",
              " 'frompredpatt': True,\n",
              " 'genericity': {'arg-abstract': {'confidence': 1.0, 'value': -1.1642},\n",
              "  'arg-kind': {'confidence': 1.0, 'value': -1.1642},\n",
              "  'arg-particular': {'confidence': 1.0, 'value': 1.2257}},\n",
              " 'type': 'argument'}"
            ]
          },
          "metadata": {},
          "execution_count": 6
        }
      ]
    },
    {
      "cell_type": "code",
      "metadata": {
        "id": "zJbcUN_qTTJx"
      },
      "source": [
        "uds[\"ewt-dev-1\"].semantics_nodes['ewt-dev-1-semantics-pred-4']"
      ],
      "execution_count": null,
      "outputs": []
    },
    {
      "cell_type": "code",
      "metadata": {
        "id": "GsrYtRlbn8sW"
      },
      "source": [
        "from typing import Dict, List"
      ],
      "execution_count": 4,
      "outputs": []
    },
    {
      "cell_type": "code",
      "metadata": {
        "id": "CJz3gyKopi7X"
      },
      "source": [
        "node_token2id = {\n",
        "    \"pred-dynamic\": 0,\n",
        "    \"pred-hypothetical\": 1,\n",
        "    \"pred-particular\": 2,\n",
        "    \"dur-weeks\": 3,\n",
        "    \"dur-decades\": 4,\n",
        "    \"dur-days\": 5,\n",
        "    \"dur-hours\": 6,\n",
        "    \"dur-seconds\": 7,\n",
        "    \"dur-forever\": 8,\n",
        "    \"dur-centuries\": 9,\n",
        "    \"dur-instant\": 10,\n",
        "    \"dur-years\": 11,\n",
        "    \"dur-minutes\": 12,\n",
        "    \"dur-months\": 13,\n",
        "    \"factual\": 14,\n",
        "    \"arg-kind\": 15,\n",
        "    \"arg-abstract\": 16,\n",
        "    \"arg-particular\": 17,\n",
        "    \"supersense-noun.object\": 18,\n",
        "    \"supersense-noun.Tops\": 19,\n",
        "    \"supersense-noun.quantity\": 20,\n",
        "    \"supersense-noun.feeling\": 21,\n",
        "    \"supersense-noun.food\": 22,\n",
        "    \"supersense-noun.shape\": 23,\n",
        "    \"supersense-noun.event\": 24,\n",
        "    \"supersense-noun.motive\": 25,\n",
        "    \"supersense-noun.substance\": 26,\n",
        "    \"supersense-noun.time\": 27,\n",
        "    \"supersense-noun.person\": 28,\n",
        "    \"supersense-noun.process\": 29,\n",
        "    \"supersense-noun.attribute\": 30,\n",
        "    \"supersense-noun.artifact\": 31,\n",
        "    \"supersense-noun.group\": 32,\n",
        "    \"supersense-noun.animal\": 33,\n",
        "    \"supersense-noun.location\": 34,\n",
        "    \"supersense-noun.plant\": 35,\n",
        "    \"supersense-noun.possession\": 36,\n",
        "    \"supersense-noun.relation\": 37,\n",
        "    \"supersense-noun.phenomenon\": 38,\n",
        "    \"supersense-noun.cognition\": 39,\n",
        "    \"supersense-noun.act\": 40,\n",
        "    \"supersense-noun.state\": 41,\n",
        "    \"supersense-noun.communication\": 42,\n",
        "    \"supersense-noun.body\": 43\n",
        "}"
      ],
      "execution_count": 5,
      "outputs": []
    },
    {
      "cell_type": "code",
      "metadata": {
        "id": "iHT8VsNejcYg"
      },
      "source": [
        "def generate_label_vec(node_attributes: Dict, label_vec: List):\n",
        "\n",
        "  for subspace, attributes in node_attributes.items():\n",
        "    if subspace in ['domain', 'frompredpatt', 'type', 'event_structure']:\n",
        "      continue\n",
        "\n",
        "    for attribute, attr_value in attributes.items():\n",
        "      label_vec[node_token2id[attribute]] = attr_value['value']\n",
        "\n",
        "  return label_vec\n",
        "\n",
        "graph = uds['ewt-train-12']\n",
        "sentence = graph.sentence\n",
        "tokens = sentence.split(' ')\n",
        "\n",
        "word_labels = {}\n",
        "for i_token, token in enumerate(tokens):\n",
        "  word_labels[(token, i_token)] = [None]*44\n",
        "\n",
        "for node_id, node_values in graph.semantics_nodes.items():\n",
        "  try:\n",
        "    # print(graph.head(node_id, ['form'])[1][0])\n",
        "    # print(node_values)\n",
        "\n",
        "    word_idx, word_form = graph.head(node_id, ['form'])\n",
        "    # print(word_idx, word_form[0])\n",
        "    # print(tokens[word_idx])\n",
        "    word_labels[(tokens[word_idx-1], word_idx-1)] = generate_label_vec(node_values, word_labels[(tokens[word_idx-1], word_idx-1)])\n",
        "\n",
        "  except ValueError:\n",
        "    pass\n",
        "\n",
        "for word, label in word_labels.items():\n",
        "  print(word)\n",
        "  print(label)\n"
      ],
      "execution_count": null,
      "outputs": []
    },
    {
      "cell_type": "code",
      "metadata": {
        "colab": {
          "base_uri": "https://localhost:8080/"
        },
        "id": "jDwmZ64sqbF4",
        "outputId": "dfbc114c-12c0-49dc-e61b-ddee5c867ce8"
      },
      "source": [
        "graph = uds['ewt-train-12']\n",
        "\n",
        "for node_id, node_values in graph.semantics_nodes.items():\n",
        "  try:\n",
        "    print(graph.head(node_id, ['form'])[1][0])\n",
        "    print(node_values)\n",
        "  except:\n",
        "    pass"
      ],
      "execution_count": null,
      "outputs": [
        {
          "output_type": "stream",
          "name": "stdout",
          "text": [
            "announced\n",
            "{'domain': 'semantics', 'frompredpatt': True, 'type': 'predicate', 'genericity': {'pred-dynamic': {'confidence': 1.0, 'value': 0.7748}, 'pred-hypothetical': {'confidence': 1.0, 'value': -1.54}, 'pred-particular': {'confidence': 1.0, 'value': 0.7748}}, 'factuality': {'factual': {'confidence': 1.0, 'value': 1.0583}}, 'event_structure': {'dynamic': {'value': -1.0745528936386108, 'confidence': 0.9999988079071045}, 'natural_parts': {'value': -1.0745666027069092, 'confidence': 0.9999988079071045}, 'telic': {'value': -1.074510931968689, 'confidence': 0.9999988079071045}, 'situation_duration_lbound-centuries': {'value': -0.4917, 'confidence': 1}, 'situation_duration_ubound-centuries': {'value': -0.4917, 'confidence': 1}, 'situation_duration_lbound-days': {'value': -1.1589, 'confidence': 1}, 'situation_duration_ubound-days': {'value': -1.1589, 'confidence': 1}, 'situation_duration_lbound-decades': {'value': -0.9165, 'confidence': 1}, 'situation_duration_ubound-decades': {'value': -0.9165, 'confidence': 1}, 'situation_duration_lbound-forever': {'value': -0.458, 'confidence': 1}, 'situation_duration_ubound-forever': {'value': -0.458, 'confidence': 1}, 'situation_duration_lbound-fractions_of_a_second': {'value': -0.5215, 'confidence': 1}, 'situation_duration_ubound-fractions_of_a_second': {'value': -0.5215, 'confidence': 1}, 'situation_duration_lbound-hours': {'value': -1.9761, 'confidence': 1}, 'situation_duration_ubound-hours': {'value': -1.9762, 'confidence': 1}, 'situation_duration_lbound-instant': {'value': 1.7272, 'confidence': 1}, 'situation_duration_ubound-instant': {'value': 1.7272, 'confidence': 1}, 'situation_duration_lbound-minutes': {'value': -2.0921, 'confidence': 1}, 'situation_duration_ubound-minutes': {'value': -2.0921, 'confidence': 1}, 'situation_duration_lbound-months': {'value': -0.6181, 'confidence': 1}, 'situation_duration_ubound-months': {'value': -0.6181, 'confidence': 1}, 'situation_duration_lbound-seconds': {'value': -2.5003, 'confidence': 1}, 'situation_duration_ubound-seconds': {'value': -2.5003, 'confidence': 1}, 'situation_duration_lbound-weeks': {'value': -0.9735, 'confidence': 1}, 'situation_duration_ubound-weeks': {'value': -0.9735, 'confidence': 1}, 'situation_duration_lbound-years': {'value': -1.4301, 'confidence': 1}, 'situation_duration_ubound-years': {'value': -1.4302, 'confidence': 1}}, 'time': {'dur-weeks': {'confidence': 1.0, 'value': -1.5373}, 'dur-decades': {'confidence': 1.0, 'value': -1.2476}, 'dur-days': {'confidence': 1.0, 'value': -1.318}, 'dur-hours': {'confidence': 1.0, 'value': -1.2156}, 'dur-seconds': {'confidence': 1.0, 'value': -0.9071}, 'dur-forever': {'confidence': 1.0, 'value': -1.0363}, 'dur-centuries': {'confidence': 1.0, 'value': -1.1744}, 'dur-instant': {'confidence': 1.0, 'value': -0.8546}, 'dur-years': {'confidence': 1.0, 'value': -1.2149}, 'dur-minutes': {'confidence': 1.0, 'value': 1.2708}, 'dur-months': {'confidence': 1.0, 'value': -1.4494}}}\n",
            "declined\n",
            "{'domain': 'semantics', 'frompredpatt': True, 'type': 'predicate', 'genericity': {'pred-dynamic': {'confidence': 1.0, 'value': 0.7748}, 'pred-hypothetical': {'confidence': 1.0, 'value': -1.5399}, 'pred-particular': {'confidence': 1.0, 'value': 0.7748}}, 'factuality': {'factual': {'confidence': 1.0, 'value': 1.0583}}, 'event_structure': {'dynamic': {'value': 1.2957098484039307, 'confidence': 0.9999978542327881}, 'natural_parts': {'value': -1.074545979499817, 'confidence': 0.9999988079071045}, 'telic': {'value': -1.0745320320129395, 'confidence': 0.9999988079071045}, 'situation_duration_lbound-centuries': {'value': -0.3258, 'confidence': 1}, 'situation_duration_ubound-centuries': {'value': -0.3595, 'confidence': 1}, 'situation_duration_lbound-days': {'value': -0.6269, 'confidence': 1}, 'situation_duration_ubound-days': {'value': -0.7862, 'confidence': 1}, 'situation_duration_lbound-decades': {'value': -0.4475, 'confidence': 1}, 'situation_duration_ubound-decades': {'value': -0.5671, 'confidence': 1}, 'situation_duration_lbound-forever': {'value': -0.3241, 'confidence': 1}, 'situation_duration_ubound-forever': {'value': -0.3567, 'confidence': 1}, 'situation_duration_lbound-fractions_of_a_second': {'value': -0.3256, 'confidence': 1}, 'situation_duration_ubound-fractions_of_a_second': {'value': -0.3626, 'confidence': 1}, 'situation_duration_lbound-hours': {'value': -1.4336, 'confidence': 1}, 'situation_duration_ubound-hours': {'value': -1.5988, 'confidence': 1}, 'situation_duration_lbound-instant': {'value': -0.7091, 'confidence': 1}, 'situation_duration_ubound-instant': {'value': -0.8479, 'confidence': 1}, 'situation_duration_lbound-minutes': {'value': -1.5557, 'confidence': 1}, 'situation_duration_ubound-minutes': {'value': 1.1922, 'confidence': 1}, 'situation_duration_lbound-months': {'value': -0.3506, 'confidence': 1}, 'situation_duration_ubound-months': {'value': -0.4077, 'confidence': 1}, 'situation_duration_lbound-seconds': {'value': 0.8715, 'confidence': 1}, 'situation_duration_ubound-seconds': {'value': -2.1428, 'confidence': 1}, 'situation_duration_lbound-weeks': {'value': -0.4845, 'confidence': 1}, 'situation_duration_ubound-weeks': {'value': -0.6162, 'confidence': 1}, 'situation_duration_lbound-years': {'value': -0.8807, 'confidence': 1}, 'situation_duration_ubound-years': {'value': -1.0534, 'confidence': 1}}, 'time': {'dur-weeks': {'confidence': 0.6652, 'value': -1.3023}, 'dur-decades': {'confidence': 0.6652, 'value': -1.1476}, 'dur-days': {'confidence': 0.6652, 'value': 0.8685}, 'dur-hours': {'confidence': 0.6652, 'value': -1.0718}, 'dur-seconds': {'confidence': 0.6652, 'value': -0.898}, 'dur-forever': {'confidence': 0.6652, 'value': -0.7896}, 'dur-centuries': {'confidence': 0.6652, 'value': -1.1401}, 'dur-instant': {'confidence': 0.6652, 'value': -1.707}, 'dur-years': {'confidence': 0.6652, 'value': -1.0606}, 'dur-minutes': {'confidence': 0.6652, 'value': -0.833}, 'dur-months': {'confidence': 0.6652, 'value': 0.9171}}}\n",
            "been\n",
            "{'domain': 'semantics', 'frompredpatt': True, 'type': 'predicate', 'genericity': {'pred-dynamic': {'confidence': 1.0, 'value': -1.5399}, 'pred-hypothetical': {'confidence': 1.0, 'value': 0.7748}, 'pred-particular': {'confidence': 1.0, 'value': -1.54}}, 'event_structure': {'dynamic': {'value': 1.2714592218399048, 'confidence': 0.9999974966049194}, 'natural_parts': {'value': -1.0961610078811646, 'confidence': 0.999998927116394}, 'telic': {'value': -1.0961692333221436, 'confidence': 0.999998927116394}, 'situation_duration_lbound-centuries': {'value': -2.1451, 'confidence': 1}, 'situation_duration_ubound-centuries': {'value': -2.2904, 'confidence': 1}, 'situation_duration_lbound-days': {'value': -1.3315, 'confidence': 1}, 'situation_duration_ubound-days': {'value': -1.4555, 'confidence': 1}, 'situation_duration_lbound-decades': {'value': -1.4392, 'confidence': 1}, 'situation_duration_ubound-decades': {'value': -1.5657, 'confidence': 1}, 'situation_duration_lbound-forever': {'value': -0.4828, 'confidence': 1}, 'situation_duration_ubound-forever': {'value': -0.5968, 'confidence': 1}, 'situation_duration_lbound-fractions_of_a_second': {'value': -0.4825, 'confidence': 1}, 'situation_duration_ubound-fractions_of_a_second': {'value': -0.5885, 'confidence': 1}, 'situation_duration_lbound-hours': {'value': -1.3694, 'confidence': 1}, 'situation_duration_ubound-hours': {'value': 1.5487, 'confidence': 1}, 'situation_duration_lbound-instant': {'value': -0.406, 'confidence': 1}, 'situation_duration_ubound-instant': {'value': -0.4771, 'confidence': 1}, 'situation_duration_lbound-minutes': {'value': -1.5364, 'confidence': 1}, 'situation_duration_ubound-minutes': {'value': -1.6354, 'confidence': 1}, 'situation_duration_lbound-months': {'value': -1.7331, 'confidence': 1}, 'situation_duration_ubound-months': {'value': -1.8296, 'confidence': 1}, 'situation_duration_lbound-seconds': {'value': 1.3352, 'confidence': 1}, 'situation_duration_ubound-seconds': {'value': -1.5945, 'confidence': 1}, 'situation_duration_lbound-weeks': {'value': -1.5385, 'confidence': 1}, 'situation_duration_ubound-weeks': {'value': -1.6551, 'confidence': 1}, 'situation_duration_lbound-years': {'value': -1.6397, 'confidence': 1}, 'situation_duration_ubound-years': {'value': -1.7316, 'confidence': 1}}, 'time': {'dur-weeks': {'confidence': 0.625, 'value': 0.846}, 'dur-decades': {'confidence': 0.625, 'value': -1.3154}, 'dur-days': {'confidence': 0.625, 'value': -1.0959}, 'dur-hours': {'confidence': 0.625, 'value': -0.9418}, 'dur-seconds': {'confidence': 0.625, 'value': -1.2451}, 'dur-forever': {'confidence': 0.625, 'value': -1.0041}, 'dur-centuries': {'confidence': 0.625, 'value': -1.2852}, 'dur-instant': {'confidence': 0.625, 'value': -0.7637}, 'dur-years': {'confidence': 0.625, 'value': -1.0986}, 'dur-minutes': {'confidence': 0.625, 'value': -0.8468}, 'dur-months': {'confidence': 0.625, 'value': 0.8075}}}\n",
            "commander\n",
            "{'domain': 'semantics', 'frompredpatt': True, 'type': 'argument', 'genericity': {'arg-kind': {'confidence': 1.0, 'value': -1.147}, 'arg-abstract': {'confidence': 1.0, 'value': -1.147}, 'arg-particular': {'confidence': 1.0, 'value': 1.1619}}, 'wordsense': {'supersense-noun.object': {'confidence': 1.0, 'value': -3.0}, 'supersense-noun.Tops': {'confidence': 1.0, 'value': -3.0}, 'supersense-noun.quantity': {'confidence': 1.0, 'value': -3.0}, 'supersense-noun.feeling': {'confidence': 1.0, 'value': -3.0}, 'supersense-noun.food': {'confidence': 1.0, 'value': -3.0}, 'supersense-noun.shape': {'confidence': 1.0, 'value': -3.0}, 'supersense-noun.event': {'confidence': 1.0, 'value': -3.0}, 'supersense-noun.motive': {'confidence': 1.0, 'value': -3.0}, 'supersense-noun.substance': {'confidence': 1.0, 'value': -3.0}, 'supersense-noun.time': {'confidence': 1.0, 'value': -3.0}, 'supersense-noun.person': {'confidence': 1.0, 'value': 0.2456}, 'supersense-noun.process': {'confidence': 1.0, 'value': -3.0}, 'supersense-noun.attribute': {'confidence': 1.0, 'value': -3.0}, 'supersense-noun.artifact': {'confidence': 1.0, 'value': -3.0}, 'supersense-noun.group': {'confidence': 1.0, 'value': -3.0}, 'supersense-noun.animal': {'confidence': 1.0, 'value': -3.0}, 'supersense-noun.location': {'confidence': 1.0, 'value': -3.0}, 'supersense-noun.plant': {'confidence': 1.0, 'value': -3.0}, 'supersense-noun.possession': {'confidence': 1.0, 'value': -3.0}, 'supersense-noun.relation': {'confidence': 1.0, 'value': -3.0}, 'supersense-noun.phenomenon': {'confidence': 1.0, 'value': -3.0}, 'supersense-noun.cognition': {'confidence': 1.0, 'value': -3.0}, 'supersense-noun.act': {'confidence': 1.0, 'value': -3.0}, 'supersense-noun.state': {'confidence': 1.0, 'value': -3.0}, 'supersense-noun.communication': {'confidence': 1.0, 'value': -3.0}, 'supersense-noun.body': {'confidence': 1.0, 'value': -3.0}}}\n",
            "declined\n",
            "{'domain': 'semantics', 'frompredpatt': True, 'type': 'argument'}\n",
            "bombings\n",
            "{'domain': 'semantics', 'frompredpatt': True, 'type': 'argument', 'genericity': {'arg-kind': {'confidence': 1.0, 'value': -1.147}, 'arg-abstract': {'confidence': 1.0, 'value': -1.147}, 'arg-particular': {'confidence': 1.0, 'value': 1.1619}}, 'wordsense': {'supersense-noun.object': {'confidence': 1.0, 'value': -3.0}, 'supersense-noun.Tops': {'confidence': 1.0, 'value': -3.0}, 'supersense-noun.quantity': {'confidence': 1.0, 'value': -3.0}, 'supersense-noun.feeling': {'confidence': 1.0, 'value': -3.0}, 'supersense-noun.food': {'confidence': 1.0, 'value': -3.0}, 'supersense-noun.shape': {'confidence': 1.0, 'value': -3.0}, 'supersense-noun.event': {'confidence': 1.0, 'value': -3.0}, 'supersense-noun.motive': {'confidence': 1.0, 'value': -3.0}, 'supersense-noun.substance': {'confidence': 1.0, 'value': -3.0}, 'supersense-noun.time': {'confidence': 1.0, 'value': -3.0}, 'supersense-noun.person': {'confidence': 1.0, 'value': -3.0}, 'supersense-noun.process': {'confidence': 1.0, 'value': -3.0}, 'supersense-noun.attribute': {'confidence': 1.0, 'value': -3.0}, 'supersense-noun.artifact': {'confidence': 1.0, 'value': -3.0}, 'supersense-noun.group': {'confidence': 1.0, 'value': -3.0}, 'supersense-noun.animal': {'confidence': 1.0, 'value': -3.0}, 'supersense-noun.location': {'confidence': 1.0, 'value': -3.0}, 'supersense-noun.plant': {'confidence': 1.0, 'value': -3.0}, 'supersense-noun.possession': {'confidence': 1.0, 'value': -3.0}, 'supersense-noun.relation': {'confidence': 1.0, 'value': -3.0}, 'supersense-noun.phenomenon': {'confidence': 1.0, 'value': -3.0}, 'supersense-noun.cognition': {'confidence': 1.0, 'value': -3.0}, 'supersense-noun.act': {'confidence': 1.0, 'value': 1.5461}, 'supersense-noun.state': {'confidence': 1.0, 'value': -3.0}, 'supersense-noun.communication': {'confidence': 1.0, 'value': -3.0}, 'supersense-noun.body': {'confidence': 1.0, 'value': -3.0}}}\n",
            "percent\n",
            "{'domain': 'semantics', 'frompredpatt': True, 'type': 'argument', 'genericity': {'arg-kind': {'confidence': 1.0, 'value': -1.147}, 'arg-abstract': {'confidence': 1.0, 'value': -1.147}, 'arg-particular': {'confidence': 1.0, 'value': 1.1619}}, 'wordsense': {'supersense-noun.object': {'confidence': 1.0, 'value': -3.0}, 'supersense-noun.Tops': {'confidence': 1.0, 'value': -3.0}, 'supersense-noun.quantity': {'confidence': 1.0, 'value': -3.0}, 'supersense-noun.feeling': {'confidence': 1.0, 'value': -3.0}, 'supersense-noun.food': {'confidence': 1.0, 'value': -3.0}, 'supersense-noun.shape': {'confidence': 1.0, 'value': -3.0}, 'supersense-noun.event': {'confidence': 1.0, 'value': -3.0}, 'supersense-noun.motive': {'confidence': 1.0, 'value': -3.0}, 'supersense-noun.substance': {'confidence': 1.0, 'value': -3.0}, 'supersense-noun.time': {'confidence': 1.0, 'value': -3.0}, 'supersense-noun.person': {'confidence': 1.0, 'value': -3.0}, 'supersense-noun.process': {'confidence': 1.0, 'value': -3.0}, 'supersense-noun.attribute': {'confidence': 1.0, 'value': -3.0}, 'supersense-noun.artifact': {'confidence': 1.0, 'value': -3.0}, 'supersense-noun.group': {'confidence': 1.0, 'value': -3.0}, 'supersense-noun.animal': {'confidence': 1.0, 'value': -3.0}, 'supersense-noun.location': {'confidence': 1.0, 'value': -3.0}, 'supersense-noun.plant': {'confidence': 1.0, 'value': -3.0}, 'supersense-noun.possession': {'confidence': 1.0, 'value': -3.0}, 'supersense-noun.relation': {'confidence': 1.0, 'value': 1.5334}, 'supersense-noun.phenomenon': {'confidence': 1.0, 'value': -3.0}, 'supersense-noun.cognition': {'confidence': 1.0, 'value': -3.0}, 'supersense-noun.act': {'confidence': 1.0, 'value': -3.0}, 'supersense-noun.state': {'confidence': 1.0, 'value': -3.0}, 'supersense-noun.communication': {'confidence': 1.0, 'value': -3.0}, 'supersense-noun.body': {'confidence': 1.0, 'value': -3.0}}}\n",
            "Mosul\n",
            "{'domain': 'semantics', 'frompredpatt': True, 'type': 'argument', 'genericity': {'arg-kind': {'confidence': 1.0, 'value': 1.1619}, 'arg-abstract': {'confidence': 1.0, 'value': -1.147}, 'arg-particular': {'confidence': 1.0, 'value': 1.1619}}}\n",
            "jump\n",
            "{'domain': 'semantics', 'frompredpatt': True, 'type': 'argument', 'genericity': {'arg-kind': {'confidence': 1.0, 'value': -1.147}, 'arg-abstract': {'confidence': 1.0, 'value': -1.147}, 'arg-particular': {'confidence': 1.0, 'value': 1.1619}}, 'wordsense': {'supersense-noun.object': {'confidence': 1.0, 'value': -3.0}, 'supersense-noun.Tops': {'confidence': 1.0, 'value': -3.0}, 'supersense-noun.quantity': {'confidence': 1.0, 'value': -3.0}, 'supersense-noun.feeling': {'confidence': 1.0, 'value': -3.0}, 'supersense-noun.food': {'confidence': 1.0, 'value': -3.0}, 'supersense-noun.shape': {'confidence': 1.0, 'value': -3.0}, 'supersense-noun.event': {'confidence': 1.0, 'value': 1.5179}, 'supersense-noun.motive': {'confidence': 1.0, 'value': -3.0}, 'supersense-noun.substance': {'confidence': 1.0, 'value': -3.0}, 'supersense-noun.time': {'confidence': 1.0, 'value': -3.0}, 'supersense-noun.person': {'confidence': 1.0, 'value': -3.0}, 'supersense-noun.process': {'confidence': 1.0, 'value': -3.0}, 'supersense-noun.attribute': {'confidence': 1.0, 'value': -3.0}, 'supersense-noun.artifact': {'confidence': 1.0, 'value': -3.0}, 'supersense-noun.group': {'confidence': 1.0, 'value': -3.0}, 'supersense-noun.animal': {'confidence': 1.0, 'value': -3.0}, 'supersense-noun.location': {'confidence': 1.0, 'value': -3.0}, 'supersense-noun.plant': {'confidence': 1.0, 'value': -3.0}, 'supersense-noun.possession': {'confidence': 1.0, 'value': -3.0}, 'supersense-noun.relation': {'confidence': 1.0, 'value': -3.0}, 'supersense-noun.phenomenon': {'confidence': 1.0, 'value': -3.0}, 'supersense-noun.cognition': {'confidence': 1.0, 'value': -3.0}, 'supersense-noun.act': {'confidence': 1.0, 'value': -1.4278}, 'supersense-noun.state': {'confidence': 1.0, 'value': -3.0}, 'supersense-noun.communication': {'confidence': 1.0, 'value': -1.4278}, 'supersense-noun.body': {'confidence': 1.0, 'value': -3.0}}}\n"
          ]
        }
      ]
    },
    {
      "cell_type": "code",
      "metadata": {
        "id": "4cvZlWCJvZ0Q"
      },
      "source": [
        "edge_token2id = {\n",
        "    \"manner\": 0,\n",
        "    \"purpose\": 1,\n",
        "    \"location\": 2,\n",
        "    \"time\": 3,\n",
        "    \"instigation\": 4,\n",
        "    \"volition\": 5,\n",
        "    \"awareness\": 6,\n",
        "    \"sentient\": 7,\n",
        "    \"change_of_location\": 8,\n",
        "    \"existed_before\": 9,\n",
        "    \"existed_during\": 10,\n",
        "    \"existed_after\": 11,\n",
        "    \"change_of_possession\": 12,\n",
        "    \"change_of_state\": 13,\n",
        "    \"change_of_state_continuous\": 14,\n",
        "    \"was_used\": 15,\n",
        "    \"was_for_benefit\": 16,\n",
        "    \"partitive\": 17\n",
        "}"
      ],
      "execution_count": 6,
      "outputs": []
    },
    {
      "cell_type": "code",
      "metadata": {
        "colab": {
          "base_uri": "https://localhost:8080/"
        },
        "id": "stu01Zh-vivB",
        "outputId": "dbb1d180-5775-4c1d-ab28-a3e92d6e9626"
      },
      "source": [
        "def generate_edge_vec(edge_attributes: Dict):\n",
        "  edge_vec = [None] * 18\n",
        "\n",
        "  attributes = edge_attributes.get('protoroles', {})\n",
        "  for attribute, attr_value in attributes.items():\n",
        "    edge_vec[edge_token2id[attribute]] = attr_value['value']\n",
        "\n",
        "  return edge_vec\n",
        "\n",
        "\n",
        "graph = uds['ewt-train-12']\n",
        "edge_labels = {}\n",
        "\n",
        "for node_pair, attributes in graph.semantics_edges().items():\n",
        "  try:\n",
        "    node_1 = graph.head(node_pair[0], ['form'])\n",
        "    node_1 = (node_1[0], node_1[1][0])\n",
        "    node_2 = graph.head(node_pair[1], ['form'])\n",
        "    node_2 = (node_2[0], node_2[1][0])\n",
        "\n",
        "    edge_labels[(node_1, node_2)] = generate_edge_vec(attributes)\n",
        "  except ValueError:\n",
        "    pass\n",
        "\n",
        "for k, v in edge_labels.items():\n",
        "  print(k)\n",
        "  print(v)"
      ],
      "execution_count": null,
      "outputs": [
        {
          "output_type": "stream",
          "name": "stdout",
          "text": [
            "((7, 'announced'), (3, 'commander'))\n",
            "[None, None, None, None, 1.3557, 1.3545, 1.3526, 1.354, -0.0922, 1.3527, 1.3557, 1.3527, -0.0, -0.0548, -0.0, -0.0207, -0.0504, -0.0018]\n",
            "((7, 'announced'), (11, 'declined'))\n",
            "[None, None, None, None, None, None, None, None, None, None, None, None, None, None, None, None, None, None]\n",
            "((11, 'declined'), (9, 'bombings'))\n",
            "[None, None, None, None, -1.5074, -0.3909, -0.0549, -1.508, -0.0549, 1.3954, 1.3959, 0.124, -0.3909, -0.0085, -0.0351, -0.0085, 0.0008, -0.1354]\n",
            "((11, 'declined'), (13, 'percent'))\n",
            "[None, None, None, None, -0.0, -0.0, -0.0, -0.9348, -0.0, 0.0111, 1.3421, 0.0111, -0.0, 0.0032, 0.0032, -0.0, -0.0, -0.0941]\n",
            "((11, 'declined'), (15, 'Mosul'))\n",
            "[None, None, None, None, None, None, None, None, None, None, None, None, None, None, None, None, None, None]\n",
            "((20, 'been'), (23, 'jump'))\n",
            "[None, None, None, None, None, None, None, None, None, None, None, None, None, None, None, None, None, None]\n",
            "((11, 'declined'), (11, 'declined'))\n",
            "[None, None, None, None, None, None, None, None, None, None, None, None, None, None, None, None, None, None]\n"
          ]
        }
      ]
    },
    {
      "cell_type": "code",
      "metadata": {
        "colab": {
          "base_uri": "https://localhost:8080/"
        },
        "id": "gwh-boYxvpLd",
        "outputId": "cb90e24b-e420-49c3-d37f-196a2b5611b0"
      },
      "source": [
        "uds['ewt-dev-50'].semantics_edges()"
      ],
      "execution_count": null,
      "outputs": [
        {
          "output_type": "execute_result",
          "data": {
            "text/plain": [
              "{('ewt-dev-50-semantics-arg-0',\n",
              "  'ewt-dev-50-semantics-pred-15'): {'domain': 'semantics', 'frompredpatt': False, 'type': 'head'},\n",
              " ('ewt-dev-50-semantics-arg-0',\n",
              "  'ewt-dev-50-semantics-pred-3'): {'domain': 'semantics', 'frompredpatt': False, 'type': 'head'},\n",
              " ('ewt-dev-50-semantics-arg-0',\n",
              "  'ewt-dev-50-semantics-pred-7'): {'domain': 'semantics', 'frompredpatt': False, 'type': 'head'},\n",
              " ('ewt-dev-50-semantics-arg-5',\n",
              "  'ewt-dev-50-semantics-pred-5'): {'domain': 'semantics', 'frompredpatt': True, 'type': 'head'},\n",
              " ('ewt-dev-50-semantics-pred-15',\n",
              "  'ewt-dev-50-semantics-arg-11'): {'domain': 'semantics', 'frompredpatt': True, 'type': 'dependency'},\n",
              " ('ewt-dev-50-semantics-pred-15',\n",
              "  'ewt-dev-50-semantics-arg-14'): {'domain': 'semantics', 'frompredpatt': True, 'type': 'dependency'},\n",
              " ('ewt-dev-50-semantics-pred-15',\n",
              "  'ewt-dev-50-semantics-predhead-15'): {'domain': 'semantics', 'type': 'head'},\n",
              " ('ewt-dev-50-semantics-pred-3',\n",
              "  'ewt-dev-50-semantics-arg-5'): {'domain': 'semantics',\n",
              "  'frompredpatt': True,\n",
              "  'type': 'dependency'},\n",
              " ('ewt-dev-50-semantics-pred-5',\n",
              "  'ewt-dev-50-semantics-arg-6'): {'domain': 'semantics', 'frompredpatt': True, 'type': 'dependency'},\n",
              " ('ewt-dev-50-semantics-pred-root',\n",
              "  'ewt-dev-50-semantics-arg-0'): {'domain': 'semantics', 'frompredpatt': False, 'type': 'dependency'},\n",
              " ('ewt-dev-50-semantics-pred-root',\n",
              "  'ewt-dev-50-semantics-arg-addressee'): {'domain': 'semantics', 'frompredpatt': False, 'type': 'dependency'},\n",
              " ('ewt-dev-50-semantics-pred-root',\n",
              "  'ewt-dev-50-semantics-arg-author'): {'domain': 'semantics', 'frompredpatt': False, 'type': 'dependency'}}"
            ]
          },
          "metadata": {},
          "execution_count": 55
        }
      ]
    },
    {
      "cell_type": "markdown",
      "metadata": {
        "id": "OELlNGuovaQ5"
      },
      "source": [
        "Code\n"
      ]
    },
    {
      "cell_type": "code",
      "metadata": {
        "colab": {
          "base_uri": "https://localhost:8080/"
        },
        "id": "E7WTDNAetDF3",
        "outputId": "6b43f027-29f0-453c-ade5-129db68de452"
      },
      "source": [
        "def generate_node_vec(node_values: Dict, label_vec: List):\n",
        "\n",
        "  for subspace, attributes in node_values.items():\n",
        "    if subspace in ['domain', 'frompredpatt', 'type', 'event_structure']:\n",
        "      continue\n",
        "\n",
        "    for attribute, attr_value in attributes.items():\n",
        "      label_vec[node_token2id[attribute]] = attr_value['value']\n",
        "\n",
        "  return label_vec\n",
        "\n",
        "def make_word_labels(graph, sample):\n",
        "    word_labels = {}\n",
        "    tokens = sample.split(' ')\n",
        "    for i_token, token in enumerate(tokens):\n",
        "      word_labels[(token, i_token)] = [None]*44\n",
        "    for node_id, node_values in graph.semantics_nodes.items():\n",
        "      try:\n",
        "        word_idx, word_form = graph.head(node_id, ['form'])\n",
        "        word_labels[(tokens[word_idx-1], word_idx-1)] = generate_node_vec(node_values, word_labels[(tokens[word_idx-1], word_idx-1)])\n",
        "      except ValueError:\n",
        "        pass\n",
        "    \n",
        "    word_labels = {str(word): label for word, label in word_labels.items() if not all(attr_v is None for attr_v in label)}\n",
        "\n",
        "    return word_labels\n",
        "\n",
        "def generate_edge_vec(edge_attributes: Dict):\n",
        "  edge_vec = [None] * 18\n",
        "\n",
        "  attributes = edge_attributes.get('protoroles', {})\n",
        "  for attribute, attr_value in attributes.items():\n",
        "    edge_vec[edge_token2id[attribute]] = attr_value['value']\n",
        "\n",
        "  return edge_vec\n",
        "\n",
        "def make_edge_labels(graph):\n",
        "  edge_labels = {}\n",
        "  for node_pair, attributes in graph.semantics_edges().items():\n",
        "    try:\n",
        "      node_1 = graph.head(node_pair[0], ['form'])\n",
        "      node_1 = (node_1[0]-1, node_1[1][0])\n",
        "      node_2 = graph.head(node_pair[1], ['form'])\n",
        "      node_2 = (node_2[0]-1, node_2[1][0])\n",
        "      edge_labels[(node_1, node_2)] = generate_edge_vec(attributes)\n",
        "    except ValueError:\n",
        "      pass\n",
        "  edge_labels = {str(edge): label for edge, label in edge_labels.items() if not all(attr_v is None for attr_v in label)}\n",
        "  \n",
        "  return edge_labels\n",
        "\n",
        "\n",
        "def make_dataset():\n",
        "  samples = {}\n",
        "\n",
        "  for i, graph_id in enumerate(uds):\n",
        "    graph = uds[graph_id]\n",
        "    if i == 50: break\n",
        "\n",
        "    sample = graph.sentence\n",
        "    word_labels = make_word_labels(graph, sample)\n",
        "    edge_labels = make_edge_labels(graph)\n",
        "\n",
        "    samples[graph_id] = {}\n",
        "    samples[graph_id]['sample'] = sample\n",
        "    samples[graph_id]['word_labels'] = word_labels\n",
        "    samples[graph_id]['edge_labels'] = edge_labels\n",
        "\n",
        "  return samples\n",
        "\n",
        "samples = make_dataset()\n",
        "print(len(samples))\n",
        "    \n"
      ],
      "execution_count": 7,
      "outputs": [
        {
          "output_type": "stream",
          "name": "stdout",
          "text": [
            "50\n"
          ]
        }
      ]
    },
    {
      "cell_type": "code",
      "metadata": {
        "id": "tkTNOsGoVKpG"
      },
      "source": [
        "# samples = {}\n",
        "\n",
        "# for i, graph_id in enumerate(uds):\n",
        "#   graph = uds[graph_id]\n",
        "#   if i == 50: break\n",
        "#   # print(graph_id, graph.sentence)\n",
        "#   all_semantic_nodes = graph.semantics_nodes.keys()\n",
        "#   exclude_list = [graph_id + special_node for special_node in special_nodes]\n",
        "#   # Starting from predicates\n",
        "#   semantic_nodes = [node for node in all_semantic_nodes if node not in exclude_list and predicate_only in node]\n",
        "#   # print(semantic_nodes)\n",
        "#   connected_arg = []\n",
        "\n",
        "#   sample = {}\n",
        "\n",
        "#   for sem_node in semantic_nodes:\n",
        "#     sample[sem_node] = {}\n",
        "#     connections = graph.semantics_edges(sem_node)\n",
        "#     connected_arg = [node for connection in connections.keys() for node in connection if node is not sem_node]\n",
        "\n",
        "\n",
        "#     # Edge labels\n",
        "#     edge_labels = {}\n",
        "#     for nodes, edge_attr in connections.items():\n",
        "#       arg_node = [node for node in nodes if 'arg' in node]\n",
        "#       edge_protoroles = edge_attr.get('protoroles', {})\n",
        "#       if len(arg_node) == 0:\n",
        "#         continue\n",
        "#       arg_node = arg_node[0]\n",
        "#       if '-semantics-arg-0' in arg_node:\n",
        "#         continue\n",
        "#       # try:\n",
        "#       #   arg_node = arg_node[0]\n",
        "#       # except:\n",
        "#       #   continue\n",
        "#       edge_label = {protorole: edge_protoroles.get(protorole, 'None') for protorole in protoroles}\n",
        "#       edge_label['form'] = graph.head(arg_node)\n",
        "#       edge_labels[arg_node] = edge_label\n",
        "\n",
        "\n",
        "\n",
        "    \n",
        "#     # Predicate labels\n",
        "#     # print(connections)\n",
        "#     sem_node_label = {node_attr: graph.semantics_nodes[sem_node].get(node_attr, 'None') for node_attr in predicate_labels}\n",
        "#     # print(sem_node_label)\n",
        "#     # start_idx = float('inf')\n",
        "#     # end_idx = float('-inf')\n",
        "#     # for arg in connected_arg:\n",
        "#     #   try:\n",
        "#     #     arg_span = graph.span(arg).keys()\n",
        "#     #   except ValueError:\n",
        "#     #     arg_span = [0]\n",
        "#     #   for idx in arg_span:\n",
        "#     #     if int(idx) > end_idx:\n",
        "#     #       end_idx = int(idx)\n",
        "#     #     if int(idx) < start_idx:\n",
        "#     #       start_idx = int(idx)\n",
        "\n",
        "#     # print(start_idx, end_idx)\n",
        "#     # print(sentence.split(' ')[start_idx:end_idx])\n",
        "\n",
        "\n",
        "#     # Arguement labels\n",
        "#     # uds[\"ewt-dev-1\"].semantics_nodes\n",
        "#     arg_labels = {}\n",
        "#     for arg in connected_arg:\n",
        "#       if '-semantics-arg-0' in arg:\n",
        "#         continue\n",
        "#       arg_attrs = graph.semantics_nodes[arg]\n",
        "#       arg_label = {attr: arg_attrs.get(attr, 'None') for attr in argument_labels}\n",
        "#       arg_label['form'] = graph.head(arg)\n",
        "#       arg_labels[arg] = arg_label\n",
        "\n",
        "\n",
        "#     # sample[sem_node]['sample'] = ' '.join(sentence.split(' ')[start_idx:end_idx])\n",
        "#     sample[sem_node]['predicate_label'] = sem_node_label\n",
        "#     sample[sem_node]['arguement_label'] = arg_labels\n",
        "#     sample[sem_node]['edge'] = edge_labels\n",
        "#     sample[sem_node]['head_token'] = graph.head(sem_node)\n",
        "\n",
        "\n",
        "#   samples[graph_id] = sample\n",
        "#   samples[graph_id]['sample'] = graph.sentence\n",
        "  \n",
        "\n",
        "# pprint(samples)\n"
      ],
      "execution_count": null,
      "outputs": []
    },
    {
      "cell_type": "code",
      "metadata": {
        "id": "qhcZJpxXVQFC"
      },
      "source": [
        "with open('/content/sample_train_seq2seq.json', 'w') as f:\n",
        "  json.dump(samples, f)"
      ],
      "execution_count": 8,
      "outputs": []
    },
    {
      "cell_type": "code",
      "metadata": {
        "id": "hMoNHsIIn1cF"
      },
      "source": [
        ""
      ],
      "execution_count": null,
      "outputs": []
    }
  ]
}