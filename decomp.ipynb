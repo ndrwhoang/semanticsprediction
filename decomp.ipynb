{
  "nbformat": 4,
  "nbformat_minor": 0,
  "metadata": {
    "colab": {
      "name": "decomp.ipynb",
      "provenance": []
    },
    "kernelspec": {
      "name": "python3",
      "display_name": "Python 3"
    },
    "language_info": {
      "name": "python"
    }
  },
  "cells": [
    {
      "cell_type": "code",
      "metadata": {
        "id": "a7QZA7aGCSrE",
        "colab": {
          "base_uri": "https://localhost:8080/"
        },
        "outputId": "89e43982-9ed2-48b7-9bd5-f77f82cef63b"
      },
      "source": [
        "pip install -q git+git://github.com/decompositional-semantics-initiative/decomp.git"
      ],
      "execution_count": 1,
      "outputs": [
        {
          "output_type": "stream",
          "name": "stdout",
          "text": [
            "\u001b[K     / 1.9 MB 2.9 MB/s\n",
            "\u001b[K     |████████████████████████████████| 57 kB 2.8 MB/s \n",
            "\u001b[K     |████████████████████████████████| 344 kB 10.8 MB/s \n",
            "\u001b[K     |████████████████████████████████| 56 kB 4.3 MB/s \n",
            "\u001b[K     |████████████████████████████████| 359 kB 50.9 MB/s \n",
            "\u001b[K     |████████████████████████████████| 89 kB 8.3 MB/s \n",
            "\u001b[K     |████████████████████████████████| 448 kB 43.4 MB/s \n",
            "\u001b[K     |████████████████████████████████| 45 kB 3.6 MB/s \n",
            "\u001b[K     |████████████████████████████████| 58 kB 6.5 MB/s \n",
            "\u001b[K     |████████████████████████████████| 1.4 MB 25.4 MB/s \n",
            "\u001b[K     |████████████████████████████████| 86 kB 5.6 MB/s \n",
            "\u001b[K     |████████████████████████████████| 52 kB 1.2 MB/s \n",
            "\u001b[K     |████████████████████████████████| 72 kB 495 kB/s \n",
            "\u001b[K     |████████████████████████████████| 10.1 MB 14.3 MB/s \n",
            "\u001b[?25h  Building wheel for decomp (setup.py) ... \u001b[?25l\u001b[?25hdone\n",
            "  Building wheel for predpatt (setup.py) ... \u001b[?25l\u001b[?25hdone\n",
            "  Building wheel for memoized-property (setup.py) ... \u001b[?25l\u001b[?25hdone\n",
            "  Building wheel for overrides (setup.py) ... \u001b[?25l\u001b[?25hdone\n",
            "  Building wheel for concrete (setup.py) ... \u001b[?25l\u001b[?25hdone\n",
            "  Building wheel for thrift (setup.py) ... \u001b[?25l\u001b[?25hdone\n",
            "  Building wheel for pycountry (setup.py) ... \u001b[?25l\u001b[?25hdone\n",
            "\u001b[31mERROR: pip's dependency resolver does not currently take into account all the packages that are installed. This behaviour is the source of the following dependency conflicts.\n",
            "google-colab 1.0.0 requires requests~=2.23.0, but you have requests 2.22.0 which is incompatible.\n",
            "datascience 0.10.6 requires folium==0.2.1, but you have folium 0.8.3 which is incompatible.\n",
            "albumentations 0.1.12 requires imgaug<0.2.7,>=0.2.5, but you have imgaug 0.2.9 which is incompatible.\u001b[0m\n"
          ]
        }
      ]
    },
    {
      "cell_type": "code",
      "metadata": {
        "id": "kD56NE-DmDPr"
      },
      "source": [
        "import json\n",
        "from pprint import pprint"
      ],
      "execution_count": 2,
      "outputs": []
    },
    {
      "cell_type": "code",
      "metadata": {
        "id": "IV9NMi3BCbHE"
      },
      "source": [
        "from decomp import UDSCorpus\n",
        "\n",
        "uds = UDSCorpus()"
      ],
      "execution_count": 3,
      "outputs": []
    },
    {
      "cell_type": "code",
      "metadata": {
        "colab": {
          "base_uri": "https://localhost:8080/"
        },
        "id": "rOPOF3a1Dr5o",
        "outputId": "52f8013e-3338-413b-f67d-4836365e4b24"
      },
      "source": [
        "for i, graphid in enumerate(uds):\n",
        "    if i == 5: break\n",
        "    print(graphid)"
      ],
      "execution_count": null,
      "outputs": [
        {
          "output_type": "stream",
          "name": "stdout",
          "text": [
            "ewt-dev-1\n",
            "ewt-dev-2\n",
            "ewt-dev-3\n",
            "ewt-dev-4\n",
            "ewt-dev-5\n"
          ]
        }
      ]
    },
    {
      "cell_type": "code",
      "metadata": {
        "colab": {
          "base_uri": "https://localhost:8080/"
        },
        "id": "9B_oo1BmD6E0",
        "outputId": "88033f65-fbf4-494e-e145-c92aadec0b48"
      },
      "source": [
        "for i, (graphid, graph) in enumerate(uds.items()):\n",
        "    if i == 5: break\n",
        "    print(graphid)\n",
        "    print(graph.sentence)"
      ],
      "execution_count": null,
      "outputs": [
        {
          "output_type": "stream",
          "name": "stdout",
          "text": [
            "ewt-dev-1\n",
            "From the AP comes this story :\n",
            "ewt-dev-2\n",
            "President Bush on Tuesday nominated two individuals to replace retiring jurists on federal courts in the Washington area .\n",
            "ewt-dev-3\n",
            "Bush nominated Jennifer M. Anderson for a 15 - year term as associate judge of the Superior Court of the District of Columbia , replacing Steffen W. Graae .\n",
            "ewt-dev-4\n",
            "***\n",
            "ewt-dev-5\n",
            "Bush also nominated A. Noel Anketell Kramer for a 15 - year term as associate judge of the District of Columbia Court of Appeals , replacing John Montague Steadman .\n"
          ]
        }
      ]
    },
    {
      "cell_type": "code",
      "metadata": {
        "colab": {
          "base_uri": "https://localhost:8080/"
        },
        "id": "XOA3alF1PHzH",
        "outputId": "1788333c-9b75-49b8-d301-ef4eff9966b8"
      },
      "source": [
        "uds[\"ewt-train-12\"].semantics_edges()"
      ],
      "execution_count": null,
      "outputs": [
        {
          "output_type": "execute_result",
          "data": {
            "text/plain": [
              "{('ewt-train-12-semantics-arg-0',\n",
              "  'ewt-train-12-semantics-pred-20'): {'domain': 'semantics', 'frompredpatt': False, 'type': 'head'},\n",
              " ('ewt-train-12-semantics-arg-0',\n",
              "  'ewt-train-12-semantics-pred-7'): {'domain': 'semantics', 'frompredpatt': False, 'type': 'head'},\n",
              " ('ewt-train-12-semantics-arg-11',\n",
              "  'ewt-train-12-semantics-pred-11'): {'domain': 'semantics', 'frompredpatt': True, 'type': 'head'},\n",
              " ('ewt-train-12-semantics-pred-11',\n",
              "  'ewt-train-12-semantics-arg-13'): {'domain': 'semantics', 'frompredpatt': True, 'protoroles': {'awareness': {'confidence': 1.0,\n",
              "    'value': -0.0},\n",
              "   'change_of_location': {'confidence': 1.0, 'value': -0.0},\n",
              "   'change_of_possession': {'confidence': 1.0, 'value': -0.0},\n",
              "   'change_of_state': {'confidence': 0.1675, 'value': 0.0032},\n",
              "   'change_of_state_continuous': {'confidence': 0.1675, 'value': 0.0032},\n",
              "   'existed_after': {'confidence': 0.6796, 'value': 0.0111},\n",
              "   'existed_before': {'confidence': 0.6796, 'value': 0.0111},\n",
              "   'existed_during': {'confidence': 1.0, 'value': 1.3421},\n",
              "   'instigation': {'confidence': 1.0, 'value': -0.0},\n",
              "   'partitive': {'confidence': 0.564, 'value': -0.0941},\n",
              "   'sentient': {'confidence': 1.0, 'value': -0.9348},\n",
              "   'volition': {'confidence': 1.0, 'value': -0.0},\n",
              "   'was_for_benefit': {'confidence': 1.0, 'value': -0.0},\n",
              "   'was_used': {'confidence': 0.564, 'value': -0.0}}, 'type': 'dependency'},\n",
              " ('ewt-train-12-semantics-pred-11',\n",
              "  'ewt-train-12-semantics-arg-15'): {'domain': 'semantics', 'frompredpatt': True, 'type': 'dependency'},\n",
              " ('ewt-train-12-semantics-pred-11',\n",
              "  'ewt-train-12-semantics-arg-9'): {'domain': 'semantics', 'event_structure': {'distributive': {'confidence': 1.0,\n",
              "    'value': -0.9329}}, 'frompredpatt': True, 'protoroles': {'awareness': {'confidence': 0.1395,\n",
              "    'value': -0.0549},\n",
              "   'change_of_location': {'confidence': 0.1395, 'value': -0.0549},\n",
              "   'change_of_possession': {'confidence': 1.0, 'value': -0.3909},\n",
              "   'change_of_state': {'confidence': 0.3333, 'value': -0.0085},\n",
              "   'change_of_state_continuous': {'confidence': 0.0791, 'value': -0.0351},\n",
              "   'existed_after': {'confidence': 0.6567, 'value': 0.124},\n",
              "   'existed_before': {'confidence': 1.0, 'value': 1.3954},\n",
              "   'existed_during': {'confidence': 1.0, 'value': 1.3959},\n",
              "   'instigation': {'confidence': 1.0, 'value': -1.5074},\n",
              "   'partitive': {'confidence': 0.0791, 'value': -0.1354},\n",
              "   'sentient': {'confidence': 1.0, 'value': -1.508},\n",
              "   'volition': {'confidence': 1.0, 'value': -0.3909},\n",
              "   'was_for_benefit': {'confidence': 0.3418, 'value': 0.0008},\n",
              "   'was_used': {'confidence': 0.3333,\n",
              "    'value': -0.0085}}, 'type': 'dependency'},\n",
              " ('ewt-train-12-semantics-pred-20',\n",
              "  'ewt-train-12-semantics-arg-23'): {'domain': 'semantics', 'frompredpatt': True, 'type': 'dependency'},\n",
              " ('ewt-train-12-semantics-pred-7',\n",
              "  'ewt-train-12-semantics-arg-11'): {'domain': 'semantics', 'frompredpatt': True, 'type': 'dependency'},\n",
              " ('ewt-train-12-semantics-pred-7',\n",
              "  'ewt-train-12-semantics-arg-3'): {'domain': 'semantics', 'frompredpatt': True, 'protoroles': {'awareness': {'confidence': 1.0,\n",
              "    'value': 1.3526},\n",
              "   'change_of_location': {'confidence': 0.272, 'value': -0.0922},\n",
              "   'change_of_possession': {'confidence': 0.7724, 'value': -0.0},\n",
              "   'change_of_state': {'confidence': 0.2067, 'value': -0.0548},\n",
              "   'change_of_state_continuous': {'confidence': 1.0, 'value': -0.0},\n",
              "   'existed_after': {'confidence': 1.0, 'value': 1.3527},\n",
              "   'existed_before': {'confidence': 1.0, 'value': 1.3527},\n",
              "   'existed_during': {'confidence': 1.0, 'value': 1.3557},\n",
              "   'instigation': {'confidence': 1.0, 'value': 1.3557},\n",
              "   'partitive': {'confidence': 0.1148, 'value': -0.0018},\n",
              "   'sentient': {'confidence': 1.0, 'value': 1.354},\n",
              "   'volition': {'confidence': 1.0, 'value': 1.3545},\n",
              "   'was_for_benefit': {'confidence': 0.1976, 'value': -0.0504},\n",
              "   'was_used': {'confidence': 0.4373,\n",
              "    'value': -0.0207}}, 'type': 'dependency'},\n",
              " ('ewt-train-12-semantics-pred-root',\n",
              "  'ewt-train-12-semantics-arg-0'): {'domain': 'semantics', 'frompredpatt': False, 'type': 'dependency'},\n",
              " ('ewt-train-12-semantics-pred-root',\n",
              "  'ewt-train-12-semantics-arg-addressee'): {'domain': 'semantics',\n",
              "  'frompredpatt': False,\n",
              "  'type': 'dependency'},\n",
              " ('ewt-train-12-semantics-pred-root',\n",
              "  'ewt-train-12-semantics-arg-author'): {'domain': 'semantics', 'frompredpatt': False, 'type': 'dependency'}}"
            ]
          },
          "metadata": {},
          "execution_count": 55
        }
      ]
    },
    {
      "cell_type": "code",
      "metadata": {
        "colab": {
          "base_uri": "https://localhost:8080/",
          "height": 52
        },
        "id": "uh6HWbZeRCRa",
        "outputId": "f169e061-0f25-40e5-e584-31b8547a8bce"
      },
      "source": [
        "uds[\"ewt-train-12\"].sentence"
      ],
      "execution_count": null,
      "outputs": [
        {
          "output_type": "execute_result",
          "data": {
            "application/vnd.google.colaboratory.intrinsic+json": {
              "type": "string"
            },
            "text/plain": [
              "'The police commander of Ninevah Province announced that bombings had declined 80 percent in Mosul , whereas there had been a big jump in the number of kidnappings .'"
            ]
          },
          "metadata": {},
          "execution_count": 56
        }
      ]
    },
    {
      "cell_type": "code",
      "metadata": {
        "colab": {
          "base_uri": "https://localhost:8080/"
        },
        "id": "q8mYutI1Pec3",
        "outputId": "f1e68c1e-8100-40d9-9e50-4f1a4e320f06"
      },
      "source": [
        "uds[\"ewt-train-12\"].semantics_edges('ewt-train-12-semantics-pred-7')"
      ],
      "execution_count": null,
      "outputs": [
        {
          "output_type": "execute_result",
          "data": {
            "text/plain": [
              "{('ewt-train-12-semantics-arg-0',\n",
              "  'ewt-train-12-semantics-pred-7'): {'domain': 'semantics', 'frompredpatt': False, 'type': 'head'},\n",
              " ('ewt-train-12-semantics-pred-7',\n",
              "  'ewt-train-12-semantics-arg-11'): {'domain': 'semantics', 'frompredpatt': True, 'type': 'dependency'},\n",
              " ('ewt-train-12-semantics-pred-7',\n",
              "  'ewt-train-12-semantics-arg-3'): {'domain': 'semantics', 'frompredpatt': True, 'protoroles': {'awareness': {'confidence': 1.0,\n",
              "    'value': 1.3526},\n",
              "   'change_of_location': {'confidence': 0.272, 'value': -0.0922},\n",
              "   'change_of_possession': {'confidence': 0.7724, 'value': -0.0},\n",
              "   'change_of_state': {'confidence': 0.2067, 'value': -0.0548},\n",
              "   'change_of_state_continuous': {'confidence': 1.0, 'value': -0.0},\n",
              "   'existed_after': {'confidence': 1.0, 'value': 1.3527},\n",
              "   'existed_before': {'confidence': 1.0, 'value': 1.3527},\n",
              "   'existed_during': {'confidence': 1.0, 'value': 1.3557},\n",
              "   'instigation': {'confidence': 1.0, 'value': 1.3557},\n",
              "   'partitive': {'confidence': 0.1148, 'value': -0.0018},\n",
              "   'sentient': {'confidence': 1.0, 'value': 1.354},\n",
              "   'volition': {'confidence': 1.0, 'value': 1.3545},\n",
              "   'was_for_benefit': {'confidence': 0.1976, 'value': -0.0504},\n",
              "   'was_used': {'confidence': 0.4373,\n",
              "    'value': -0.0207}}, 'type': 'dependency'}}"
            ]
          },
          "metadata": {},
          "execution_count": 57
        }
      ]
    },
    {
      "cell_type": "code",
      "metadata": {
        "colab": {
          "base_uri": "https://localhost:8080/"
        },
        "id": "3q0jfAfGW33l",
        "outputId": "f2c851e2-4599-40b9-8dec-898a04be2eed"
      },
      "source": [
        "uds[\"ewt-dev-1\"].sentence.split(' ')"
      ],
      "execution_count": null,
      "outputs": [
        {
          "output_type": "execute_result",
          "data": {
            "text/plain": [
              "['From', 'the', 'AP', 'comes', 'this', 'story', ':']"
            ]
          },
          "metadata": {},
          "execution_count": 64
        }
      ]
    },
    {
      "cell_type": "code",
      "metadata": {
        "colab": {
          "base_uri": "https://localhost:8080/"
        },
        "id": "pQiU-lNMQs3L",
        "outputId": "ec35c638-9ba0-4847-9452-bbe7f447e2ba"
      },
      "source": [
        "uds[\"ewt-dev-1\"].head('ewt-dev-1-semantics-pred-4', ['form', 'lemma'])"
      ],
      "execution_count": null,
      "outputs": [
        {
          "output_type": "execute_result",
          "data": {
            "text/plain": [
              "(4, ['comes', 'come'])"
            ]
          },
          "metadata": {},
          "execution_count": 61
        }
      ]
    },
    {
      "cell_type": "code",
      "metadata": {
        "colab": {
          "base_uri": "https://localhost:8080/"
        },
        "id": "62lb42_kQwrt",
        "outputId": "1e188579-46af-407d-a6f5-b163f5e208cc"
      },
      "source": [
        "uds[\"ewt-dev-1\"].span('ewt-dev-1-semantics-pred-4', ['form', 'lemma', 'type'])"
      ],
      "execution_count": null,
      "outputs": [
        {
          "output_type": "execute_result",
          "data": {
            "text/plain": [
              "{1: ['From', 'from', 'token'], 4: ['comes', 'come', 'token']}"
            ]
          },
          "metadata": {},
          "execution_count": 59
        }
      ]
    },
    {
      "cell_type": "code",
      "metadata": {
        "colab": {
          "base_uri": "https://localhost:8080/"
        },
        "id": "ygVaixCwXcLn",
        "outputId": "93336203-c591-433f-e7da-10679561e57d"
      },
      "source": [
        "uds['ewt-dev-8'].semantics_edges('ewt-dev-8-semantics-pred-4')"
      ],
      "execution_count": null,
      "outputs": [
        {
          "output_type": "execute_result",
          "data": {
            "text/plain": [
              "{('ewt-dev-8-semantics-arg-0',\n",
              "  'ewt-dev-8-semantics-pred-4'): {'domain': 'semantics', 'frompredpatt': False, 'type': 'head'},\n",
              " ('ewt-dev-8-semantics-pred-4',\n",
              "  'ewt-dev-8-semantics-arg-3'): {'domain': 'semantics', 'frompredpatt': True, 'protoroles': {'awareness': {'confidence': 1.0,\n",
              "    'value': -0.0},\n",
              "   'change_of_location': {'confidence': 0.5233, 'value': -0.17},\n",
              "   'change_of_possession': {'confidence': 1.0, 'value': -0.0},\n",
              "   'change_of_state': {'confidence': 1.0, 'value': -1.307},\n",
              "   'change_of_state_continuous': {'confidence': 1.0, 'value': -0.0},\n",
              "   'existed_after': {'confidence': 0.3405, 'value': 0.1093},\n",
              "   'existed_before': {'confidence': 1.0, 'value': -1.3995},\n",
              "   'existed_during': {'confidence': 1.0, 'value': 1.3903},\n",
              "   'instigation': {'confidence': 1.0, 'value': 1.389},\n",
              "   'partitive': {'confidence': 0.3405, 'value': 0.1093},\n",
              "   'sentient': {'confidence': 1.0, 'value': -1.3053},\n",
              "   'volition': {'confidence': 1.0, 'value': -0.0},\n",
              "   'was_for_benefit': {'confidence': 1.0, 'value': -0.0},\n",
              "   'was_used': {'confidence': 0.3273, 'value': 0.0618}}, 'type': 'dependency'},\n",
              " ('ewt-dev-8-semantics-pred-4',\n",
              "  'ewt-dev-8-semantics-arg-8'): {'domain': 'semantics', 'frompredpatt': True, 'type': 'dependency'}}"
            ]
          },
          "metadata": {},
          "execution_count": 41
        }
      ]
    },
    {
      "cell_type": "code",
      "metadata": {
        "id": "VaaIJ6RbaARU"
      },
      "source": [
        "uds['ewt-dev-1'].head('ewt-dev-1-semantics-arg-0', ['form'])"
      ],
      "execution_count": null,
      "outputs": []
    },
    {
      "cell_type": "code",
      "metadata": {
        "id": "5MBqrgwuWpup"
      },
      "source": [
        "uds[\"ewt-dev-1\"].semantics_nodes"
      ],
      "execution_count": null,
      "outputs": []
    },
    {
      "cell_type": "code",
      "metadata": {
        "colab": {
          "base_uri": "https://localhost:8080/"
        },
        "id": "WCDQiaz0wGI_",
        "outputId": "46c37e29-1d4f-4f84-c4d5-8c484bbddedb"
      },
      "source": [
        "uds[\"ewt-dev-1\"].semantics_nodes['ewt-dev-1-semantics-arg-3']"
      ],
      "execution_count": null,
      "outputs": [
        {
          "output_type": "execute_result",
          "data": {
            "text/plain": [
              "{'domain': 'semantics',\n",
              " 'frompredpatt': True,\n",
              " 'genericity': {'arg-abstract': {'confidence': 1.0, 'value': -1.1642},\n",
              "  'arg-kind': {'confidence': 1.0, 'value': -1.1642},\n",
              "  'arg-particular': {'confidence': 1.0, 'value': 1.2257}},\n",
              " 'type': 'argument'}"
            ]
          },
          "metadata": {},
          "execution_count": 6
        }
      ]
    },
    {
      "cell_type": "code",
      "metadata": {
        "id": "zJbcUN_qTTJx"
      },
      "source": [
        "uds[\"ewt-dev-1\"].semantics_nodes['ewt-dev-1-semantics-pred-4']"
      ],
      "execution_count": null,
      "outputs": []
    },
    {
      "cell_type": "code",
      "metadata": {
        "id": "uGVe_qKFw3oR"
      },
      "source": [
        "# uds.to_json(\"uds-sentence.json\", \"uds-document.json\")"
      ],
      "execution_count": null,
      "outputs": []
    },
    {
      "cell_type": "code",
      "metadata": {
        "id": "NyHW4RAYx_zU"
      },
      "source": [
        "# with open('/content/uds-sentence.json', 'r') as f:\n",
        "#   data = json.load(f)\n",
        "#   subset = {}\n",
        "#   for i, (idx, sample) in enumerate(data['data'].items()):\n",
        "#     if i == 50: break\n",
        "#     # print(sample.keys())\n",
        "#     # print(sample['nodes'])\n",
        "#     subset[idx] = sample\n",
        "\n",
        "# f.close()\n",
        "# with open('/content/uds_sentence_subset.json', 'w') as f:\n",
        "#   json.dump(subset, f, indent=2)\n"
      ],
      "execution_count": null,
      "outputs": []
    },
    {
      "cell_type": "code",
      "metadata": {
        "id": "vpfIwuMcUwhT"
      },
      "source": [
        "special_nodes = ['-semantics-pred-root', '-semantics-arg-author', '-semantics-arg-addressee', '-semantics-arg-0']\n",
        "predicate_only = 'pred'\n",
        "arguement_only = 'arg'\n",
        "predicate_labels = ['genericity', 'time', 'factuality']\n",
        "argument_labels = ['genericity', 'wordsense']\n",
        "protoroles = ['instigation', 'volition', 'awareness', 'sentient', 'change_of_location', 'existed_before', 'existed_during',\n",
        "               'existed_after', 'change_of_possession', 'change_of_state', 'change_of_state_continuous', 'was_used',\n",
        "               'was_for_benefit', 'partitive', 'manner', 'purpose', 'location', 'time']"
      ],
      "execution_count": 5,
      "outputs": []
    },
    {
      "cell_type": "code",
      "metadata": {
        "id": "tkTNOsGoVKpG"
      },
      "source": [
        "samples = {}\n",
        "\n",
        "for i, graph_id in enumerate(uds):\n",
        "  graph = uds[graph_id]\n",
        "  if i == 50: break\n",
        "  # print(graph_id, graph.sentence)\n",
        "  all_semantic_nodes = graph.semantics_nodes.keys()\n",
        "  exclude_list = [graph_id + special_node for special_node in special_nodes]\n",
        "  # Starting from predicates\n",
        "  semantic_nodes = [node for node in all_semantic_nodes if node not in exclude_list and predicate_only in node]\n",
        "  # print(semantic_nodes)\n",
        "  connected_arg = []\n",
        "\n",
        "  sample = {}\n",
        "\n",
        "  for sem_node in semantic_nodes:\n",
        "    sample[sem_node] = {}\n",
        "    connections = graph.semantics_edges(sem_node)\n",
        "    connected_arg = [node for connection in connections.keys() for node in connection if node is not sem_node]\n",
        "\n",
        "\n",
        "    # Edge labels\n",
        "    edge_labels = {}\n",
        "    for nodes, edge_attr in connections.items():\n",
        "      arg_node = [node for node in nodes if 'arg' in node]\n",
        "      edge_protoroles = edge_attr.get('protoroles', {})\n",
        "      if len(arg_node) == 0:\n",
        "        continue\n",
        "      arg_node = arg_node[0]\n",
        "      if '-semantics-arg-0' in arg_node:\n",
        "        continue\n",
        "      # try:\n",
        "      #   arg_node = arg_node[0]\n",
        "      # except:\n",
        "      #   continue\n",
        "      edge_label = {protorole: edge_protoroles.get(protorole, 'None') for protorole in protoroles}\n",
        "      edge_label['form'] = graph.head(arg_node)\n",
        "      edge_labels[arg_node] = edge_label\n",
        "\n",
        "\n",
        "\n",
        "    \n",
        "    # Predicate labels\n",
        "    # print(connections)\n",
        "    sem_node_label = {node_attr: graph.semantics_nodes[sem_node].get(node_attr, 'None') for node_attr in predicate_labels}\n",
        "    # print(sem_node_label)\n",
        "    # start_idx = float('inf')\n",
        "    # end_idx = float('-inf')\n",
        "    # for arg in connected_arg:\n",
        "    #   try:\n",
        "    #     arg_span = graph.span(arg).keys()\n",
        "    #   except ValueError:\n",
        "    #     arg_span = [0]\n",
        "    #   for idx in arg_span:\n",
        "    #     if int(idx) > end_idx:\n",
        "    #       end_idx = int(idx)\n",
        "    #     if int(idx) < start_idx:\n",
        "    #       start_idx = int(idx)\n",
        "\n",
        "    # print(start_idx, end_idx)\n",
        "    # print(sentence.split(' ')[start_idx:end_idx])\n",
        "\n",
        "\n",
        "    # Arguement labels\n",
        "    # uds[\"ewt-dev-1\"].semantics_nodes\n",
        "    arg_labels = {}\n",
        "    for arg in connected_arg:\n",
        "      if '-semantics-arg-0' in arg:\n",
        "        continue\n",
        "      arg_attrs = graph.semantics_nodes[arg]\n",
        "      arg_label = {attr: arg_attrs.get(attr, 'None') for attr in argument_labels}\n",
        "      arg_label['form'] = graph.head(arg)\n",
        "      arg_labels[arg] = arg_label\n",
        "\n",
        "\n",
        "    # sample[sem_node]['sample'] = ' '.join(sentence.split(' ')[start_idx:end_idx])\n",
        "    sample[sem_node]['predicate_label'] = sem_node_label\n",
        "    sample[sem_node]['arguement_label'] = arg_labels\n",
        "    sample[sem_node]['edge'] = edge_labels\n",
        "    sample[sem_node]['head_token'] = graph.head(sem_node)\n",
        "\n",
        "\n",
        "  samples[graph_id] = sample\n",
        "  samples[graph_id]['sample'] = graph.sentence\n",
        "  \n",
        "\n",
        "pprint(samples)\n"
      ],
      "execution_count": null,
      "outputs": []
    },
    {
      "cell_type": "code",
      "metadata": {
        "id": "qhcZJpxXVQFC"
      },
      "source": [
        "with open('/content/sample_train.json', 'w') as f:\n",
        "  json.dump(samples, f)"
      ],
      "execution_count": 8,
      "outputs": []
    },
    {
      "cell_type": "code",
      "metadata": {
        "id": "hMoNHsIIn1cF"
      },
      "source": [
        ""
      ],
      "execution_count": null,
      "outputs": []
    }
  ]
}